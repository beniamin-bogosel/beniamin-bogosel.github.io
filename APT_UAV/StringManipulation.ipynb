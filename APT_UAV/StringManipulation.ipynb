{
 "cells": [
  {
   "cell_type": "code",
   "execution_count": 2,
   "id": "bd9ae971-775e-44fb-98bb-4905e3211b21",
   "metadata": {},
   "outputs": [
    {
     "name": "stdout",
     "output_type": "stream",
     "text": [
      "H\n",
      "H\n",
      "e\n",
      "l\n",
      "l\n",
      "o\n",
      " \n",
      "w\n",
      "o\n",
      "r\n",
      "l\n",
      "d\n",
      "!\n"
     ]
    }
   ],
   "source": [
    "# Manipulating Strings\n",
    "\n",
    "a = 'Hello world!'\n",
    "print(a[0])\n",
    "for i in range(0,len(a)):\n",
    "    print(a[i])"
   ]
  },
  {
   "cell_type": "code",
   "execution_count": 5,
   "id": "8062b1a3-d316-4fcc-9e14-a372e8f744e4",
   "metadata": {},
   "outputs": [
    {
     "name": "stdout",
     "output_type": "stream",
     "text": [
      "Hel\n",
      "ell\n",
      "llo\n",
      "lo \n",
      "o w\n",
      " wo\n",
      "wor\n",
      "orl\n",
      "rld\n"
     ]
    }
   ],
   "source": [
    "def printsubstrings(a,k):\n",
    "    for i in range(0,len(a)-k+1):\n",
    "        print(a[i:i+k])\n",
    "\n",
    "printsubstrings(a,3)\n"
   ]
  },
  {
   "cell_type": "code",
   "execution_count": 7,
   "id": "244d3b05-3734-4068-8963-063467125ebc",
   "metadata": {},
   "outputs": [
    {
     "name": "stdout",
     "output_type": "stream",
     "text": [
      "['Hel', 'ell', 'llo', 'lo ', 'o w', ' wo', 'wor', 'orl', 'rld', 'ld!']\n"
     ]
    }
   ],
   "source": [
    "def Listsubstrings(a,k):\n",
    "    L = []\n",
    "    for i in range(0,len(a)-k+1):\n",
    "        L.append(a[i:i+k])\n",
    "    return L\n",
    "\n",
    "print(Listsubstrings(a,3))\n"
   ]
  },
  {
   "cell_type": "code",
   "execution_count": 10,
   "id": "11b8d2f5-5f51-4ca7-b312-881c5ced052b",
   "metadata": {},
   "outputs": [
    {
     "name": "stdout",
     "output_type": "stream",
     "text": [
      "False\n",
      "True\n",
      "abcaab\n"
     ]
    }
   ],
   "source": [
    "s1 = 'abc'\n",
    "s2 = 'aab'\n",
    "\n",
    "print(s1<s2)\n",
    "print(s1>s2)\n",
    "print(s1+s2)"
   ]
  },
  {
   "cell_type": "code",
   "execution_count": 17,
   "id": "5b81f8db-d3b1-4931-ac93-f4ab3bfdf7c9",
   "metadata": {},
   "outputs": [],
   "source": [
    "with open (\"human.txt\", \"r\") as myfile:\n",
    "    data = myfile.read()\n"
   ]
  },
  {
   "cell_type": "code",
   "execution_count": 19,
   "id": "99d93ab3-4a62-4931-8456-9ea8892034f0",
   "metadata": {},
   "outputs": [
    {
     "name": "stdout",
     "output_type": "stream",
     "text": [
      "ATGCCCCAACTAAATACTACCGTATGGCCCACCATAATTACCCCCATACTCCTTACACTATTCCTCATCACCCAACTAAAAATATTAAACACAAACTACC\n"
     ]
    }
   ],
   "source": [
    "print(data[0:100])"
   ]
  },
  {
   "cell_type": "code",
   "execution_count": 20,
   "id": "330a4e3b-5f94-4acd-8bb2-410bff3293e0",
   "metadata": {},
   "outputs": [
    {
     "name": "stdout",
     "output_type": "stream",
     "text": [
      "5547702\n"
     ]
    }
   ],
   "source": [
    "print(len(data))"
   ]
  },
  {
   "cell_type": "code",
   "execution_count": null,
   "id": "e796814b-944d-483f-9132-ab01523ec713",
   "metadata": {},
   "outputs": [],
   "source": []
  }
 ],
 "metadata": {
  "kernelspec": {
   "display_name": "Python 3 (ipykernel)",
   "language": "python",
   "name": "python3"
  },
  "language_info": {
   "codemirror_mode": {
    "name": "ipython",
    "version": 3
   },
   "file_extension": ".py",
   "mimetype": "text/x-python",
   "name": "python",
   "nbconvert_exporter": "python",
   "pygments_lexer": "ipython3",
   "version": "3.12.1"
  }
 },
 "nbformat": 4,
 "nbformat_minor": 5
}
