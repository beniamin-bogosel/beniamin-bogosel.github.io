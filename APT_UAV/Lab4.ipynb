{
 "cells": [
  {
   "cell_type": "markdown",
   "id": "0b4fe334-fdd6-4a7d-b0f7-9098b348fd44",
   "metadata": {},
   "source": [
    "# Merge Sort\n",
    "\n",
    "From previous Labs. "
   ]
  },
  {
   "cell_type": "code",
   "execution_count": 1,
   "id": "70567922-44c0-40bb-90a7-1990a5044792",
   "metadata": {},
   "outputs": [
    {
     "name": "stdout",
     "output_type": "stream",
     "text": [
      "[1, 3, 4, 5, 6, 7]\n"
     ]
    }
   ],
   "source": [
    "def Merge(A,p,q,r):\n",
    "    # fuziona in ordine A[p..q], A[q+1..r]\n",
    "    # Ipoteza: A[p..q], A[q+1..r] sunt sortate! \n",
    "    # output: A[p..r] sortat\n",
    "    L = A[p:q]   # indici de la p la q-1\n",
    "    R = A[q:r]   # indici de la q la r-1\n",
    "\n",
    "    L.append(10**8)\n",
    "    R.append(10**8)\n",
    "    #print(\"L=\",L)\n",
    "    #print(\"R=\",R)\n",
    "    i = 0\n",
    "    j = 0\n",
    "\n",
    "    for k in range(p,r):\n",
    "        if L[i]<=R[j]:\n",
    "            A[k]=L[i]\n",
    "            i = i+1\n",
    "            #print(A)\n",
    "        else:\n",
    "            A[k]=R[j]\n",
    "            j = j+1\n",
    "            #print(A)\n",
    "\n",
    "    #return A\n",
    "\n",
    "ExA = [1,3,5,7,4,6]\n",
    "\n",
    "Merge(ExA,0,4,6)\n",
    "print(ExA)"
   ]
  },
  {
   "cell_type": "code",
   "execution_count": 2,
   "id": "ccac2fea-ce90-48b1-a57d-752b6d96d655",
   "metadata": {},
   "outputs": [],
   "source": [
    "# Merge Sort va sorta elementele lui A\n",
    "# ce corespund intervalului p...r-1\n",
    "\n",
    "def MergeSort(A,p,r):\n",
    "    if p<r-1:\n",
    "        q=((p+r)//2)  # pentru a evita partea intreaga se poate folosi\n",
    "                      # impartirea cu rezultat nr intreg //\n",
    "        MergeSort(A,p,q)  # sortarea intervalului p..q-1\n",
    "        MergeSort(A,q,r)  # sortarea intervalului q..r-1\n",
    "        Merge(A,p,q,r)    # combinarea intervalelor sortate"
   ]
  },
  {
   "cell_type": "code",
   "execution_count": 157,
   "id": "e5d1631e-f8a8-4763-8a36-6f0c2e701556",
   "metadata": {},
   "outputs": [
    {
     "name": "stdout",
     "output_type": "stream",
     "text": [
      "[82, 60, 78, 29, 97, 32, 23, 26]\n"
     ]
    }
   ],
   "source": [
    "# generare de tablouri aleatorii\n",
    "import random\n",
    "\n",
    "ar0=random.sample(range(100),8)\n",
    "print(ar0)"
   ]
  },
  {
   "cell_type": "code",
   "execution_count": 158,
   "id": "60b6d085-7476-424f-963b-50f133bcfc06",
   "metadata": {},
   "outputs": [
    {
     "name": "stdout",
     "output_type": "stream",
     "text": [
      "Before sort ar0: [82, 60, 78, 29, 97, 32, 23, 26]\n",
      "After  sort ar0: [82, 60, 78, 29, 97, 32, 23, 26]\n",
      "After  sort ar : [23, 26, 29, 32, 60, 78, 82, 97]\n"
     ]
    }
   ],
   "source": [
    "# pentru a pastra o copie nesortata se foloseste .copy()\n",
    "ar = ar0.copy()\n",
    "#ar = ar0\n",
    "\n",
    "print(\"Before sort ar0:\",ar0)\n",
    "MergeSort(ar,0,len(ar))\n",
    "\n",
    "print(\"After  sort ar0:\",ar0)\n",
    "\n",
    "print(\"After  sort ar :\",ar)"
   ]
  },
  {
   "cell_type": "markdown",
   "id": "35f02889-5bbb-457d-97e3-203b2d567573",
   "metadata": {},
   "source": [
    "# Insertion sort\n",
    "\n",
    "From previous labs"
   ]
  },
  {
   "cell_type": "code",
   "execution_count": 161,
   "id": "0d82de51-c7a5-4405-a246-a4791fa07737",
   "metadata": {},
   "outputs": [
    {
     "name": "stdout",
     "output_type": "stream",
     "text": [
      "Unsorted array= [82, 60, 78, 29, 97, 32, 23, 26]\n",
      "Sorted array=   [23, 26, 29, 32, 60, 78, 82, 97]\n"
     ]
    }
   ],
   "source": [
    "def InsertionSort(A):\n",
    "    for j in range(1,len(A)):\n",
    "        key = A[j]\n",
    "        i = j-1\n",
    "        while i>=0 and A[i]>key:\n",
    "            A[i+1]=A[i]\n",
    "            i     =i-1\n",
    "        A[i+1] = key\n",
    "\n",
    "ar = ar0.copy()\n",
    "print(\"Unsorted array=\",ar)\n",
    "InsertionSort(ar)\n",
    "\n",
    "print(\"Sorted array=  \",ar)\n"
   ]
  },
  {
   "cell_type": "markdown",
   "id": "797961d8-b0f9-47e2-8fe3-540db8d8c46d",
   "metadata": {},
   "source": [
    "# Quick Sort\n",
    "\n",
    "Implement quick sort"
   ]
  },
  {
   "cell_type": "code",
   "execution_count": 162,
   "id": "30e6a97b-4147-4ad3-9d35-4b45fd2c5f50",
   "metadata": {},
   "outputs": [
    {
     "name": "stdout",
     "output_type": "stream",
     "text": [
      "Before swap\n",
      "a= 10\n",
      "b= 20\n",
      "After swap\n",
      "a= 20\n",
      "b= 10\n"
     ]
    }
   ],
   "source": [
    "### Swapping using direct assignment\n",
    "\n",
    "a  = 10\n",
    "b  = 20\n",
    "\n",
    "print(\"Before swap\")\n",
    "print(\"a=\",a)\n",
    "print(\"b=\",b)\n",
    "\n",
    "(a,b) = (b,a)\n",
    "\n",
    "print(\"After swap\")\n",
    "print(\"a=\",a)\n",
    "print(\"b=\",b)\n",
    "\n",
    "    "
   ]
  },
  {
   "cell_type": "code",
   "execution_count": 165,
   "id": "d8bd6265-464c-4745-b094-6a52d1e13d2d",
   "metadata": {},
   "outputs": [
    {
     "name": "stdout",
     "output_type": "stream",
     "text": [
      "[82, 60, 78, 29, 97, 32, 23, 26]\n",
      "[23, 26, 78, 29, 97, 32, 82, 60]\n"
     ]
    }
   ],
   "source": [
    "def Partition(A,p,r):\n",
    "    x = A[r]\n",
    "    i = p-1\n",
    "    for j in range(p,r):\n",
    "        if A[j]<= x:\n",
    "            i = i+1\n",
    "            (A[i],A[j]) = (A[j],A[i])\n",
    "\n",
    "    (A[i+1],A[r]) = (A[r],A[i+1])\n",
    "    return i+1\n",
    "\n",
    "ar = ar0.copy()\n",
    "print(ar)\n",
    "Partition(ar,0,len(ar)-1)\n",
    "print(ar)"
   ]
  },
  {
   "cell_type": "code",
   "execution_count": 166,
   "id": "991d44dc-471f-48ec-b574-5376a871f648",
   "metadata": {},
   "outputs": [],
   "source": [
    "def QuickSort(A,p,r):\n",
    "    if p<r:\n",
    "        q = Partition(A,p,r)\n",
    "        QuickSort(A,p,q-1)\n",
    "        QuickSort(A,q+1,r)\n",
    "        "
   ]
  },
  {
   "cell_type": "code",
   "execution_count": 169,
   "id": "d9c3cc5d-9c84-4fa7-8b7c-1b235a6d3211",
   "metadata": {},
   "outputs": [
    {
     "name": "stdout",
     "output_type": "stream",
     "text": [
      "[69, 2, 13, 3, 59, 29, 39, 53, 43, 40, 81, 42, 60, 84, 78, 76, 32, 23, 91, 83]\n",
      "[2, 3, 13, 23, 29, 32, 39, 40, 42, 43, 53, 59, 60, 69, 76, 78, 81, 83, 84, 91]\n"
     ]
    }
   ],
   "source": [
    "ar0=random.sample(range(100),20)\n",
    "print(ar0)\n",
    "\n",
    "ar = ar0.copy()\n",
    "\n",
    "QuickSort(ar,0,len(ar)-1)\n",
    "print(ar)"
   ]
  },
  {
   "cell_type": "markdown",
   "id": "6c1763ee-7daf-43b8-aaaf-70e919d414ed",
   "metadata": {},
   "source": [
    "# Heap Sort"
   ]
  },
  {
   "cell_type": "code",
   "execution_count": 139,
   "id": "4dcf894c-2e21-4474-a888-5e544ba76e2c",
   "metadata": {},
   "outputs": [],
   "source": [
    "# HeapSort\n",
    "\n",
    "# children: 2*i+1\n",
    "#           2*i+2\n",
    "\n",
    "def MaxHeapify(arr, n, i):\n",
    "    largest = i  # Initialize largest as root\n",
    "    l = 2*i+1  # left = 2*i + 1\n",
    "    r = 2*i+2  # right = 2*i + 2\n",
    "\n",
    "    # See if left child of root exists and is\n",
    "    # greater than root\n",
    " \n",
    "    if l<n and arr[i]<arr[l]:\n",
    "        largest=l\n",
    " \n",
    "    # See if right child of root exists and is\n",
    "    # greater than root\n",
    " \n",
    "    if r<n and arr[largest]<arr[r]:\n",
    "        largest = r\n",
    " \n",
    "    # Change root, if needed\n",
    "    if largest != i:\n",
    "        (arr[i], arr[largest]) = (arr[largest], arr[i])  # swap\n",
    "        # Heapify the root.\n",
    "        MaxHeapify(arr, n, largest)\n",
    "    "
   ]
  },
  {
   "cell_type": "code",
   "execution_count": 176,
   "id": "a51f4fc5-d3d3-418b-8cff-157946e06311",
   "metadata": {},
   "outputs": [
    {
     "name": "stdout",
     "output_type": "stream",
     "text": [
      "5\n",
      "4\n",
      "3\n",
      "2\n",
      "1\n",
      "0\n"
     ]
    }
   ],
   "source": [
    "for i in range(5, -1, -1):\n",
    "    print(i)"
   ]
  },
  {
   "cell_type": "code",
   "execution_count": 140,
   "id": "ccfe2282-57f9-441d-aa97-c9f9331841ba",
   "metadata": {},
   "outputs": [],
   "source": [
    "def HeapSort(arr):\n",
    "    n = len(arr)\n",
    " \n",
    "    # Build a maxheap.\n",
    "    # Since last parent will be at (n//2) we can start at that location.\n",
    " \n",
    "    for i in range(n // 2, -1, -1):\n",
    "        MaxHeapify(arr, n, i)\n",
    " \n",
    "    # One by one extract elements\n",
    " \n",
    "    for i in range(n - 1, 0, -1):\n",
    "        (arr[i], arr[0]) = (arr[0], arr[i])  # swap\n",
    "        MaxHeapify(arr, i, 0)"
   ]
  },
  {
   "cell_type": "code",
   "execution_count": 179,
   "id": "f2ba5042-2aa4-4d95-bf4e-50897543ae60",
   "metadata": {},
   "outputs": [
    {
     "name": "stdout",
     "output_type": "stream",
     "text": [
      "[60, 98, 74, 96, 79, 89, 67, 9, 54, 50, 27, 59, 45, 38, 29, 99, 20, 57, 88, 36]\n",
      "[9, 20, 27, 29, 36, 38, 45, 50, 54, 57, 59, 60, 67, 74, 79, 88, 89, 96, 98, 99]\n"
     ]
    }
   ],
   "source": [
    "ar0=random.sample(range(100),20)\n",
    "print(ar0)\n",
    "\n",
    "ar = ar0.copy()\n",
    "\n",
    "HeapSort(ar)\n",
    "print(ar)"
   ]
  },
  {
   "cell_type": "code",
   "execution_count": 185,
   "id": "bb529889-a84b-4cb9-bc22-b25df6312316",
   "metadata": {},
   "outputs": [
    {
     "name": "stdout",
     "output_type": "stream",
     "text": [
      "24\n"
     ]
    }
   ],
   "source": [
    "a = 10\n",
    "b = 24\n",
    "c = max(a,b)\n",
    "print(c)"
   ]
  },
  {
   "cell_type": "code",
   "execution_count": 182,
   "id": "1ef63a37-aa78-453b-acbc-7e7b771172e4",
   "metadata": {},
   "outputs": [
    {
     "name": "stdout",
     "output_type": "stream",
     "text": [
      "N= 10  Ins= 6.80464186838695e-06\n",
      "N= 50  Ins= 7.845000280732555e-05\n",
      "N= 100  Ins= 0.0005179514326820416\n",
      "N= 500  Ins= 0.009389169223140925\n",
      "N= 1000  Ins= 0.04230070970619896\n",
      "N= 2000  Ins= 0.17951551436479868\n",
      "[[6.35099908e-06 7.32200026e-05 4.83421337e-04 8.76322461e-03\n",
      "  3.94806624e-02 1.67547813e-01]\n",
      " [1.01180786e-05 4.01893941e-05 1.42388123e-04 7.31223600e-04\n",
      "  1.75705993e-03 4.06888500e-03]\n",
      " [2.38175271e-05 7.93086016e-05 2.47886401e-04 9.91153057e-04\n",
      "  2.36662533e-03 6.12751147e-03]\n",
      " [1.65908714e-05 8.71469965e-05 3.26680590e-04 1.42022706e-03\n",
      "  3.94484493e-03 8.15991460e-03]]\n"
     ]
    }
   ],
   "source": [
    "import timeit\n",
    "import numpy as np\n",
    "\n",
    "listN   = [10,50,100,500,1000,2000]\n",
    "maxN    = listN[-1]\n",
    "repeats = 15\n",
    "\n",
    "Ctimes   = np.zeros((4,len(listN)));\n",
    "\n",
    "for i in range(0,len(listN)):\n",
    "    N = listN[i]\n",
    "    valIns   = 0\n",
    "    valMerge = 0\n",
    "    valQuick = 0\n",
    "    valHeap  = 0\n",
    "    for k in range(0,repeats):\n",
    "        ar0=random.sample(range(10*maxN),N)\n",
    "\n",
    "        # all sorts\n",
    "        # Insertion\n",
    "        ar = ar0.copy()\n",
    "        tic = timeit.default_timer()\n",
    "        InsertionSort(ar)\n",
    "        toc = timeit.default_timer()\n",
    "        valIns = valIns+toc-tic\n",
    "        # Worst case\n",
    "        #valIns = max(valIns,toc-tic)\n",
    "\n",
    "        # Quick\n",
    "        ar = ar0.copy()\n",
    "        tic = timeit.default_timer()\n",
    "        QuickSort(ar,0,len(ar)-1)\n",
    "        toc = timeit.default_timer()\n",
    "        valQuick = valQuick+toc-tic\n",
    "\n",
    "\n",
    "        # Merge\n",
    "        ar = ar0.copy()\n",
    "        tic = timeit.default_timer()\n",
    "        MergeSort(ar,0,len(ar))\n",
    "        toc = timeit.default_timer()\n",
    "        valMerge = valMerge+toc-tic\n",
    "\n",
    "        # Heap\n",
    "        ar = ar0.copy()\n",
    "        tic = timeit.default_timer()\n",
    "        HeapSort(ar)\n",
    "        toc = timeit.default_timer()\n",
    "        valHeap = valHeap+toc-tic\n",
    "    Ctimes[0,i] = valIns  /repeats\n",
    "    Ctimes[1,i] = valQuick/repeats\n",
    "    Ctimes[2,i] = valMerge/repeats\n",
    "    Ctimes[3,i] = valHeap /repeats\n",
    "    print(\"N=\",N,\" Ins=\",valIns/k)\n",
    "\n",
    "print(Ctimes)"
   ]
  },
  {
   "cell_type": "code",
   "execution_count": 183,
   "id": "ff12ba41-613b-4208-bea7-8f0a78757261",
   "metadata": {},
   "outputs": [
    {
     "data": {
      "image/png": "[encoded data removed]",
      "text/plain": [
       "<Figure size 640x480 with 1 Axes>"
      ]
     },
     "metadata": {},
     "output_type": "display_data"
    }
   ],
   "source": [
    "import matplotlib.pyplot as plt\n",
    "\n",
    "NlogN = np.zeros((1,len(listN)));\n",
    "NlogN = listN*np.log(listN)\n",
    "NlogN = NlogN/NlogN[0]*Ctimes[1,0]\n",
    "\n",
    "plt.plot(listN,Ctimes[0,:],label=\"Insertion Sort\")\n",
    "plt.plot(listN,Ctimes[1,:],label=\"Quick Sort\")\n",
    "plt.plot(listN,Ctimes[2,:],label=\"Merge Sort\")\n",
    "plt.plot(listN,Ctimes[3,:],label=\"Heap Sort\")\n",
    "plt.plot(listN,NlogN,label=\"N-logN\")\n",
    "\n",
    "\n",
    "plt.xscale(\"log\")\n",
    "plt.yscale(\"log\")\n",
    "\n",
    "plt.title(\"Average Complexity\")\n",
    "\n",
    "plt.legend()\n",
    "plt.show()"
   ]
  },
  {
   "cell_type": "code",
   "execution_count": null,
   "id": "8cf7301f-6d72-4971-a474-47d16cd6f56b",
   "metadata": {},
   "outputs": [],
   "source": []
  }
 ],
 "metadata": {
  "kernelspec": {
   "display_name": "Python 3 (ipykernel)",
   "language": "python",
   "name": "python3"
  },
  "language_info": {
   "codemirror_mode": {
    "name": "ipython",
    "version": 3
   },
   "file_extension": ".py",
   "mimetype": "text/x-python",
   "name": "python",
   "nbconvert_exporter": "python",
   "pygments_lexer": "ipython3",
   "version": "3.12.1"
  }
 },
 "nbformat": 4,
 "nbformat_minor": 5
}
