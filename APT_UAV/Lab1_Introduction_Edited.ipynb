{
 "cells": [
  {
   "cell_type": "markdown",
   "id": "456ce7f0-e9d2-46ea-ba70-f232c50be03d",
   "metadata": {},
   "source": [
    "## Introduction: basic Python commands\n",
    "\n",
    "\n",
    "Jupyter Notebook allows to write code and launch it without using terminal or command line. It also allows to combine cells containing text written in Markdown (including math formulas in Latex) with cells containing code. \n",
    "\n",
    "In this course codes will be using Python. However, Jupyter can also be used with other languages like Julia.\n",
    "\n",
    "To \"run\" the contents of a cell (render markdown, run code) just type `Shift+Enter`."
   ]
  },
  {
   "cell_type": "code",
   "execution_count": 43,
   "id": "924e11f1-4fdf-4eaf-93b0-670077e0073a",
   "metadata": {},
   "outputs": [
    {
     "name": "stdout",
     "output_type": "stream",
     "text": [
      "Hello!\n",
      "Hello!\n"
     ]
    }
   ],
   "source": [
    "# Printing something (this is a comment)\n",
    "# strings begin and start with \" \n",
    "# print everything with print()  (other variants available, search the doc)\n",
    "print(\"Hello!\")\n",
    "\n",
    "print('Hello!')\n"
   ]
  },
  {
   "cell_type": "code",
   "execution_count": 45,
   "id": "13e484b0-75e3-4b70-b446-0c20a833997e",
   "metadata": {},
   "outputs": [
    {
     "name": "stdout",
     "output_type": "stream",
     "text": [
      "5.366666666666666\n"
     ]
    }
   ],
   "source": [
    "# variable definition is straightforward\n",
    "# no type declaration is necessary\n",
    "# basic operations use standard syntax\n",
    "\n",
    "a=2.3\n",
    "b=3/7\n",
    "print(a/b)"
   ]
  },
  {
   "cell_type": "code",
   "execution_count": 47,
   "id": "55f4925e-98cd-478d-9d44-ad781559ad1e",
   "metadata": {},
   "outputs": [
    {
     "name": "stdout",
     "output_type": "stream",
     "text": [
      "[0, 0, 0, 0, 0, 0, 0, 0, 0, 0]\n"
     ]
    }
   ],
   "source": [
    "# there are multiple ways of working with arrays, we'll explore some in this course\n",
    "\n",
    "# create an array filled with zeros\n",
    "a = [0]*10\n",
    "print(a)"
   ]
  },
  {
   "cell_type": "code",
   "execution_count": 48,
   "id": "1ab74629-cd3b-4ee4-b1a2-49c65029f817",
   "metadata": {},
   "outputs": [
    {
     "name": "stdout",
     "output_type": "stream",
     "text": [
      "0\n",
      "[0, 0, 0, 0, 5, 0, 0, 0, 0, 0]\n"
     ]
    }
   ],
   "source": [
    "# access elements using brackets\n",
    "\n",
    "print(a[0])\n",
    "a[4] = 5\n",
    "print(a)"
   ]
  },
  {
   "cell_type": "code",
   "execution_count": 71,
   "id": "bb60f11e-9ee6-462b-9475-9fc5ad1cb617",
   "metadata": {},
   "outputs": [
    {
     "name": "stdout",
     "output_type": "stream",
     "text": [
      "3\n",
      "4\n",
      "5\n",
      "6\n",
      "7\n",
      "8\n",
      "9\n",
      "Lungimea tabelului este  10\n",
      "[10, 9, 8, 7, 6, 5, 4, 3, 2, 1]\n",
      "10\n"
     ]
    }
   ],
   "source": [
    "# range(0,a) allows to loop through integers from \n",
    "# 0 up to a-1\n",
    "\n",
    "S = 0\n",
    "for i in range(3,10):\n",
    "    print(i)\n",
    "    S = S+i\n",
    "\n",
    "print(\"Lungimea tabelului este \",len(a))\n",
    "\n",
    "for i in range(0,len(a)):\n",
    "    a[i]=10-i\n",
    "\n",
    "print(a)\n",
    "# indexing starts at zero\n",
    "\n",
    "print(a[0])"
   ]
  },
  {
   "cell_type": "code",
   "execution_count": 56,
   "id": "13255194-43f5-4f78-8e32-1e8e1e4c0a2a",
   "metadata": {},
   "outputs": [
    {
     "name": "stdout",
     "output_type": "stream",
     "text": [
      "[86, 31, 27, 57, 36, 49, 8, 76, 43, 78, 0, 35, 15, 17, 30, 26, 14, 98, 94, 20]\n",
      "20\n"
     ]
    }
   ],
   "source": [
    "# Creating random arrays (this will be useful for testing various types of algorithms)\n",
    "\n",
    "# import different modules using \"import\": see the doc\n",
    "import random\n",
    "\n",
    "# Example of an array with 20 integer elements taken in the interval [0,99]\n",
    "ar=random.sample(range(100),20)\n",
    "print(ar)\n",
    "print(len(ar))"
   ]
  },
  {
   "cell_type": "code",
   "execution_count": 67,
   "id": "1790f798-5f58-49fa-aa1a-cb95a2105450",
   "metadata": {},
   "outputs": [
    {
     "name": "stdout",
     "output_type": "stream",
     "text": [
      "(-1, 0.6666666666666666, 45.5, True, 'String')\n",
      "45.5\n"
     ]
    }
   ],
   "source": [
    "# functions are defined using the keyword \"def\"\n",
    "# the name of the function and the list of arguments follows, like shown below\n",
    "# functions are useful whenever a procedure needs to be applied multiple times to various inputs\n",
    "\n",
    "# indent!!!!\n",
    "def toy(a,b,c):\n",
    "    res = a+b-c\n",
    "    bbb = a>0\n",
    "    ss  = \"String\"\n",
    "    return res,a/b,a+c/2,bbb,ss\n",
    "\n",
    "L = toy(20,30,51)\n",
    "\n",
    "print(L)\n",
    "print(L[2])"
   ]
  },
  {
   "cell_type": "code",
   "execution_count": 39,
   "id": "0cfe0f3e-3708-45ee-8d8c-848d8ef04c8a",
   "metadata": {},
   "outputs": [],
   "source": [
    "# Recursive functions call themselves in the interior of the function code\n",
    "# make sure that: -the \"size\" of the problem decreases\n",
    "#                 -all \"base cases\" are covered  \n",
    "\n",
    "def factorial(n):\n",
    "    if n<=1:\n",
    "        return 1\n",
    "    else:\n",
    "        return n*factorial(n-1)"
   ]
  },
  {
   "cell_type": "code",
   "execution_count": 85,
   "id": "edd932d2-07a1-4671-adf9-b57ab0e8321e",
   "metadata": {},
   "outputs": [
    {
     "name": "stdout",
     "output_type": "stream",
     "text": [
      "306057512216440636035370461297268629388588804173576999416776741259476533176716867465515291422477573349939147888701726368864263907759003154226842927906974559841225476930271954604008012215776252176854255965356903506788725264321896264299365204576448830388909753943489625436053225980776521270822437639449120128678675368305712293681943649956460498166450227716500185176546469340112226034729724066333258583506870150169794168850353752137554910289126407157154830282284937952636580145235233156936482233436799254594095276820608062232812387383880817049600000000000000000000000000000000000000000000000000000000000000000000000000\n"
     ]
    }
   ],
   "source": [
    "print(factorial(300))\n"
   ]
  },
  {
   "cell_type": "code",
   "execution_count": 80,
   "id": "6bfc4830-8b59-4525-9440-a2c6f26e34c6",
   "metadata": {},
   "outputs": [
    {
     "name": "stdout",
     "output_type": "stream",
     "text": [
      "Negativ\n"
     ]
    }
   ],
   "source": [
    "# Cod if-else\n",
    "\n",
    "a = -1\n",
    "b = 0\n",
    "if a>=0:\n",
    "    print(\"Pozitiv\")\n",
    "    a = a+1\n",
    "else:\n",
    "    if b ==0:\n",
    "        print(\"Negativ\")\n",
    "    else:\n",
    "        print(\"....\")\n"
   ]
  },
  {
   "cell_type": "code",
   "execution_count": 81,
   "id": "12dc7dec-5200-452e-b025-ce5aac471889",
   "metadata": {},
   "outputs": [
    {
     "name": "stdout",
     "output_type": "stream",
     "text": [
      "9\n",
      "8\n",
      "7\n",
      "6\n",
      "5\n",
      "4\n",
      "3\n",
      "2\n",
      "1\n",
      "0\n"
     ]
    }
   ],
   "source": [
    "a = 10\n",
    "\n",
    "while a>0:\n",
    "    a = a-1\n",
    "    print(a)\n"
   ]
  },
  {
   "cell_type": "markdown",
   "id": "3082b45b-9836-40b0-839a-8efd3aec53c5",
   "metadata": {},
   "source": [
    "## Exercise 2"
   ]
  },
  {
   "cell_type": "code",
   "execution_count": 90,
   "id": "805bc695-93f1-4ee6-b28c-48ff8e221547",
   "metadata": {},
   "outputs": [
    {
     "name": "stdout",
     "output_type": "stream",
     "text": [
      "2\n"
     ]
    }
   ],
   "source": [
    "# adunarea a doua numere\n",
    "def adunare(x,y):\n",
    "    # x,y local variables\n",
    "    return x+y\n",
    "\n",
    "print(adunare(0,2))"
   ]
  },
  {
   "cell_type": "code",
   "execution_count": 101,
   "id": "d3a26925-615a-4896-9100-70bfbe392478",
   "metadata": {},
   "outputs": [
    {
     "name": "stdout",
     "output_type": "stream",
     "text": [
      "[2, 3]\n",
      "[2, 3, 5, 7]\n"
     ]
    }
   ],
   "source": [
    "A = [2,3]\n",
    "B = [5,7]\n",
    "\n",
    "def concat(A,B):\n",
    "    for i in range(0,len(B)):\n",
    "        A.append(B[i])\n",
    "    return A\n",
    "\n",
    "print(A)\n",
    "#print(concat(A,B))\n",
    "\n",
    "A= concat(A,B)\n",
    "\n",
    "print(A)\n",
    "    "
   ]
  },
  {
   "cell_type": "code",
   "execution_count": 242,
   "id": "994499c5-406d-4bc9-895b-418b2bdd400a",
   "metadata": {},
   "outputs": [
    {
     "name": "stdout",
     "output_type": "stream",
     "text": [
      "[21, 57, 24, 65, 47]\n"
     ]
    }
   ],
   "source": [
    "# Insertion Sort\n",
    "ar0=random.sample(range(100),5)\n",
    "print(ar0)\n",
    "\n"
   ]
  },
  {
   "cell_type": "code",
   "execution_count": 243,
   "id": "de6ba174-283b-41fb-98e4-4a667e587c15",
   "metadata": {},
   "outputs": [
    {
     "name": "stdout",
     "output_type": "stream",
     "text": [
      "Iter  1  :  [21, 57, 24, 65, 47]\n",
      "Iter  2  :  [21, 24, 57, 65, 47]\n",
      "Iter  3  :  [21, 24, 57, 65, 47]\n",
      "Iter  4  :  [21, 24, 47, 57, 65]\n"
     ]
    },
    {
     "data": {
      "text/plain": [
       "[21, 24, 47, 57, 65]"
      ]
     },
     "execution_count": 243,
     "metadata": {},
     "output_type": "execute_result"
    }
   ],
   "source": [
    "# pentru a pastra a0 intact\n",
    "# copiem explicit continutul lui a0 in a1\n",
    "ar1 = ar0.copy()\n",
    "\n",
    "def InsertionSort(ar):\n",
    "    # bucla i: elem pozitia 2 -> sfarsit\n",
    "    for j in range(1,len(ar)):\n",
    "        key = ar[j]\n",
    "        # inseram elementul i pe pozitia buna in\n",
    "        # ar[1:i-1]\n",
    "        i = j-1\n",
    "        while i>=0 and ar[i]>key:\n",
    "            ar[i+1] = ar[i]\n",
    "            i = i-1\n",
    "        ar[i+1]=key\n",
    "        print(\"Iter \",j,\" : \",ar)\n",
    "    return ar\n",
    "\n",
    "InsertionSort(ar1)\n",
    "    "
   ]
  },
  {
   "cell_type": "markdown",
   "id": "a88f4213-05c5-42e9-962e-2af1c81961ad",
   "metadata": {},
   "source": [
    "## Exercise 3"
   ]
  },
  {
   "cell_type": "code",
   "execution_count": 244,
   "id": "190b11b3-bdff-432e-8a77-819e0617f6b2",
   "metadata": {},
   "outputs": [],
   "source": [
    "# Implementare Fibonacci\n",
    "\n",
    "#def recursive(n):\n",
    "#    ....\n",
    "#    recursive(a)  a<n\n",
    "#    ...\n",
    "##    recursive(b)  b<n\n",
    "#    ..\n",
    "#    return ... \n",
    "    "
   ]
  },
  {
   "cell_type": "code",
   "execution_count": 245,
   "id": "ae21f65b-185b-41a8-83e4-d69a4b86f289",
   "metadata": {},
   "outputs": [
    {
     "name": "stdout",
     "output_type": "stream",
     "text": [
      "[31, 72, 91, 60, 51, 68, 26, 18]\n"
     ]
    }
   ],
   "source": [
    "ar0=random.sample(range(100),8)\n",
    "print(ar0)"
   ]
  },
  {
   "cell_type": "code",
   "execution_count": 246,
   "id": "6edf0e90-5f1f-4e66-9a44-e4dce05f6b40",
   "metadata": {},
   "outputs": [
    {
     "name": "stdout",
     "output_type": "stream",
     "text": [
      "[31, 72, 91, 60, 51, 68, 26, 18]\n"
     ]
    }
   ],
   "source": [
    "print(ar0[0:len(ar0)])"
   ]
  },
  {
   "cell_type": "code",
   "execution_count": 247,
   "id": "adfa9718-105e-4d74-815a-75385d230715",
   "metadata": {},
   "outputs": [
    {
     "name": "stdout",
     "output_type": "stream",
     "text": [
      "[1, 3, 4, 5, 6, 7]\n"
     ]
    }
   ],
   "source": [
    "def Merge(A,p,q,r):\n",
    "    # fuziona in ordine A[p..q], A[q+1..r]\n",
    "    # Ipoteza: A[p..q], A[q+1..r] sunt sortate! \n",
    "    # output: A[p..r] sortat\n",
    "    L = A[p:q]   # indici de la p la q-1\n",
    "    R = A[q:r]   # indici de la q la r-1\n",
    "\n",
    "    L.append(10**8)\n",
    "    R.append(10**8)\n",
    "    #print(\"L=\",L)\n",
    "    #print(\"R=\",R)\n",
    "    i = 0\n",
    "    j = 0\n",
    "\n",
    "    for k in range(p,r):\n",
    "        if L[i]<=R[j]:\n",
    "            A[k]=L[i]\n",
    "            i = i+1\n",
    "            #print(A)\n",
    "        else:\n",
    "            A[k]=R[j]\n",
    "            j = j+1\n",
    "            #print(A)\n",
    "\n",
    "    #return A\n",
    "\n",
    "ExA = [1,3,5,7,4,6]\n",
    "\n",
    "Merge(ExA,0,4,6)\n",
    "print(ExA)"
   ]
  },
  {
   "cell_type": "code",
   "execution_count": 249,
   "id": "322846f4-b1ce-42e8-bc90-b15a978e6647",
   "metadata": {},
   "outputs": [],
   "source": [
    "# Merge Sort va sorta elementele lui A\n",
    "# ce corespund intervalului p...r-1\n",
    "\n",
    "def MergeSort(A,p,r):\n",
    "    if p<r-1:\n",
    "        q=((p+r)//2)  # pentru a evita partea intreaga se poate folosi\n",
    "                      # impartirea cu rezultat nr intreg //\n",
    "        MergeSort(A,p,q)  # sortarea intervalului p..q-1\n",
    "        MergeSort(A,q,r)  # sortarea intervalului q..r-1\n",
    "        Merge(A,p,q,r)    # combinarea intervalelor sortate\n",
    "        "
   ]
  },
  {
   "cell_type": "code",
   "execution_count": 250,
   "id": "6f2590d4-a0a3-40c1-a2c8-dfd286eb2bd3",
   "metadata": {},
   "outputs": [
    {
     "name": "stdout",
     "output_type": "stream",
     "text": [
      "[54, 24, 29, 46, 73, 11, 9, 50]\n"
     ]
    }
   ],
   "source": [
    "# un array aleatoriu\n",
    "\n",
    "ar0=random.sample(range(100),8)\n",
    "print(ar0)\n"
   ]
  },
  {
   "cell_type": "code",
   "execution_count": 251,
   "id": "b00c17c4-8ac7-46d3-96c7-22cddbca04c3",
   "metadata": {},
   "outputs": [
    {
     "name": "stdout",
     "output_type": "stream",
     "text": [
      "[9, 11, 24, 29, 46, 50, 54, 73]\n"
     ]
    }
   ],
   "source": [
    "# testarea implementarii\n",
    "MergeSort(ar0,0,len(ar0))\n",
    "\n",
    "print(ar0)"
   ]
  },
  {
   "cell_type": "code",
   "execution_count": null,
   "id": "25119175-282c-442d-a137-427ec0380b2d",
   "metadata": {},
   "outputs": [],
   "source": []
  }
 ],
 "metadata": {
  "kernelspec": {
   "display_name": "Python 3 (ipykernel)",
   "language": "python",
   "name": "python3"
  },
  "language_info": {
   "codemirror_mode": {
    "name": "ipython",
    "version": 3
   },
   "file_extension": ".py",
   "mimetype": "text/x-python",
   "name": "python",
   "nbconvert_exporter": "python",
   "pygments_lexer": "ipython3",
   "version": "3.12.1"
  }
 },
 "nbformat": 4,
 "nbformat_minor": 5
}
