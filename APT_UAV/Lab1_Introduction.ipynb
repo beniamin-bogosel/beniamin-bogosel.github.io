{
 "cells": [
  {
   "cell_type": "markdown",
   "id": "456ce7f0-e9d2-46ea-ba70-f232c50be03d",
   "metadata": {},
   "source": [
    "## Introduction: basic Python commands\n",
    "\n",
    "\n",
    "Jupyter Notebook allows to write code and launch it without using terminal or command line. It also allows to combine cells containing text written in Markdown (including math formulas in Latex) with cells containing code. \n",
    "\n",
    "In this course codes will be using Python. However, Jupyter can also be used with other languages like Julia.\n",
    "\n",
    "To \"run\" the contents of a cell (render markdown, run code) just type `Shift+Enter`."
   ]
  },
  {
   "cell_type": "code",
   "execution_count": 28,
   "id": "924e11f1-4fdf-4eaf-93b0-670077e0073a",
   "metadata": {},
   "outputs": [
    {
     "name": "stdout",
     "output_type": "stream",
     "text": [
      "Hello!\n"
     ]
    }
   ],
   "source": [
    "# Printing something (this is a comment)\n",
    "# strings begin and start with \" \n",
    "# print everything with print()  (other variants available, search the doc)\n",
    "print(\"Hello!\")"
   ]
  },
  {
   "cell_type": "code",
   "execution_count": 29,
   "id": "13e484b0-75e3-4b70-b446-0c20a833997e",
   "metadata": {},
   "outputs": [
    {
     "name": "stdout",
     "output_type": "stream",
     "text": [
      "0.6666666666666666\n"
     ]
    }
   ],
   "source": [
    "# variable definition is straightforward\n",
    "# no type declaration is necessary\n",
    "# basic operations use standard syntax\n",
    "\n",
    "a=2\n",
    "b=3\n",
    "print(a/b)"
   ]
  },
  {
   "cell_type": "code",
   "execution_count": 30,
   "id": "55f4925e-98cd-478d-9d44-ad781559ad1e",
   "metadata": {},
   "outputs": [
    {
     "name": "stdout",
     "output_type": "stream",
     "text": [
      "[0, 0, 0, 0, 0, 0, 0, 0, 0, 0]\n"
     ]
    }
   ],
   "source": [
    "# there are multiple ways of working with arrays, we'll explore some in this course\n",
    "\n",
    "# create an array filled with zeros\n",
    "a = [0]*10\n",
    "print(a)"
   ]
  },
  {
   "cell_type": "code",
   "execution_count": 31,
   "id": "1ab74629-cd3b-4ee4-b1a2-49c65029f817",
   "metadata": {},
   "outputs": [
    {
     "name": "stdout",
     "output_type": "stream",
     "text": [
      "0\n",
      "[0, 0, 0, 0, 5, 0, 0, 0, 0, 0]\n"
     ]
    }
   ],
   "source": [
    "# access elements using brackets\n",
    "\n",
    "print(a[3])\n",
    "a[4] = 5\n",
    "print(a)"
   ]
  },
  {
   "cell_type": "code",
   "execution_count": 32,
   "id": "bb60f11e-9ee6-462b-9475-9fc5ad1cb617",
   "metadata": {},
   "outputs": [
    {
     "name": "stdout",
     "output_type": "stream",
     "text": [
      "[10, 9, 8, 7, 6, 5, 4, 3, 2, 1]\n",
      "10\n"
     ]
    }
   ],
   "source": [
    "# range(0,a) allows to loop through integers from \n",
    "# 0 up to a-1\n",
    "for i in range(0,len(a)):\n",
    "    a[i]=10-i\n",
    "\n",
    "print(a)\n",
    "# indexing starts at zero\n",
    "\n",
    "print(a[0])"
   ]
  },
  {
   "cell_type": "code",
   "execution_count": 35,
   "id": "13255194-43f5-4f78-8e32-1e8e1e4c0a2a",
   "metadata": {},
   "outputs": [
    {
     "name": "stdout",
     "output_type": "stream",
     "text": [
      "[46, 68, 74, 71, 25, 17, 42, 54, 43, 62, 8, 31, 12, 65, 75, 41, 77, 87, 50, 33]\n"
     ]
    }
   ],
   "source": [
    "# Creating random arrays (this will be useful for testing various types of algorithms)\n",
    "\n",
    "# import different modules using \"import\": see the doc\n",
    "import random\n",
    "\n",
    "# Example of an array with 20 integer elements taken in the interval [0,99]\n",
    "ar=random.sample(range(100),20)\n",
    "print(ar)"
   ]
  },
  {
   "cell_type": "code",
   "execution_count": 38,
   "id": "1790f798-5f58-49fa-aa1a-cb95a2105450",
   "metadata": {},
   "outputs": [
    {
     "name": "stdout",
     "output_type": "stream",
     "text": [
      "-1\n"
     ]
    }
   ],
   "source": [
    "# functions are defined using the keyword \"def\"\n",
    "# the name of the function and the list of arguments follows, like shown below\n",
    "# functions are useful whenever a procedure needs to be applied multiple times to various inputs\n",
    "\n",
    "def toy(a,b,c):\n",
    "    res = a+b-c\n",
    "    return res\n",
    "\n",
    "print(toy(20,30,51))"
   ]
  },
  {
   "cell_type": "code",
   "execution_count": 39,
   "id": "0cfe0f3e-3708-45ee-8d8c-848d8ef04c8a",
   "metadata": {},
   "outputs": [],
   "source": [
    "# Recursive functions call themselves in the interior of the function code\n",
    "# make sure that: -the \"size\" of the problem decreases\n",
    "#                 -all \"base cases\" are covered  \n",
    "\n",
    "def factorial(n):\n",
    "    if n<=1:\n",
    "        return 1\n",
    "    else:\n",
    "        return n*factorial(n-1)"
   ]
  },
  {
   "cell_type": "code",
   "execution_count": 13,
   "id": "edd932d2-07a1-4671-adf9-b57ab0e8321e",
   "metadata": {},
   "outputs": [
    {
     "name": "stdout",
     "output_type": "stream",
     "text": [
      "120\n"
     ]
    }
   ],
   "source": [
    "print(factorial(5))\n"
   ]
  },
  {
   "cell_type": "code",
   "execution_count": null,
   "id": "6bfc4830-8b59-4525-9440-a2c6f26e34c6",
   "metadata": {},
   "outputs": [],
   "source": []
  }
 ],
 "metadata": {
  "kernelspec": {
   "display_name": "Python 3 (ipykernel)",
   "language": "python",
   "name": "python3"
  },
  "language_info": {
   "codemirror_mode": {
    "name": "ipython",
    "version": 3
   },
   "file_extension": ".py",
   "mimetype": "text/x-python",
   "name": "python",
   "nbconvert_exporter": "python",
   "pygments_lexer": "ipython3",
   "version": "3.12.1"
  }
 },
 "nbformat": 4,
 "nbformat_minor": 5
}
