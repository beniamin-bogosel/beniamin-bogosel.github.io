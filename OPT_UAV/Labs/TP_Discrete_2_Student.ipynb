{
 "cells": [
  {
   "cell_type": "markdown",
   "id": "067e0592-5b7b-4822-953e-18920d459be8",
   "metadata": {},
   "source": [
    "**Graphs: brief intro**\n",
    "\n",
    "Graphs: a collection of vertices $V$ and edges $E$. The Edges contain pairs of vertices connecting vertices in $V$. \n",
    "\n",
    "Weights: each edge $e \\in E$ has a *cost* or a *weight*. \n",
    "\n",
    "**Paths and costs**: given two vertices $v_1$ and $v_2$ in $V$, a path $p$ going from $v_1$ to $v_2$ is a collection of edges $(v_1,w_1), (w_1,w_2),...,(w_{k-1},w_k),(w_k,v_2)$ connecting $v_1$ to $v_2$. The cost of a path is given by the **sum of all weights of the edges making that path**.\n",
    "\n",
    "![alt text](Example_Graph1.svg \"Graph Example\")\n",
    "\n",
    "\n",
    "**Exercise 1** Indicate three paths linking vertices $C$ and $D$ in the graph illustrated above. Compute the associated costs.\n",
    "\n",
    "Given a path and two vertices $A,B$ connected by at least a path the following problem becomes relevant. \n",
    "\n",
    "**Minimal cost path connecting two vertices**: Find the minimum cost for a path connecting two vertices $A$ and $B$.\n",
    "\n",
    "**Exercise 2** By direct inspection, determine the minimum cost of a path from $C$ to $D$ in the graph illustrated above. \n",
    "\n",
    "\n"
   ]
  },
  {
   "cell_type": "markdown",
   "id": "9cf3c145-2414-43da-877e-ccb43369caa9",
   "metadata": {},
   "source": [
    "**Dijkstra's Algorithm**\n",
    "\n",
    "It is of interest to be able to compute and determine optimal paths in graphs. Dijkstra's algorithm provides a solution to this problem. Applications of this algorithm include:\n",
    "\n",
    "- route planning: finding an optimal transportation plan in a road network\n",
    "- shortest path in IP routing\n",
    "- robotic path planning\n",
    "\n",
    "<div style=\"background-color:lightblue;margin:20px;padding:10px;border-radius:10px;border-width:2px;border-color:black;box-shadow:5px 5px\">\n",
    "\n",
    "**Algorithm Outline**: the graph $G$ is given (list of nodes, list of edges or node connections, list of weights associated to each edge).\n",
    "\n",
    "1. Create a set of all unvisited nodes: the unvisited set.\n",
    "2. Assign to every node a distance from the start value. It is initially zero for the start node and `infinity` for the other nodes.\n",
    "3. From the unvisited set select the one with the smallest finite distance. If this is the **target** node then stop and mark it as the **current node**.\n",
    "4. For the **current node** consider all its **unvisited neighbors** and update their distances through the current node. If new distances are smaller than the value of the current node, update this value.\n",
    "5. After considering all unvisited neighbors of the current node, remove it from the  unvisited set. A visited node is never re-checked.\n",
    "6. Once this procedure finishes, every visited node contains the shortest distance from the starting node.\n",
    "\n",
    "</div>"
   ]
  },
  {
   "cell_type": "markdown",
   "id": "8f69aed6-a5cf-46c3-a320-d13c5443e389",
   "metadata": {},
   "source": [
    "**Exercise 3** Apply Dijkstra's algorithm to the graph indicated in the figure. Consider $D$ as the **starting node**  and $F$ as the **target node**.\n",
    "\n",
    "![alt text](Example_Graph1.svg \"Graph Example\")\n"
   ]
  },
  {
   "cell_type": "markdown",
   "id": "f66effa4-3e92-4be2-b98c-c2ae300a19d7",
   "metadata": {},
   "source": [
    "<div style=\"background-color:lightblue;margin:20px;padding:10px;border-radius:10px;border-width:2px;border-color:black;box-shadow:5px 5px\">\n",
    "\n",
    "**Implementation** Observe the implementation below and try to understand it.\n",
    "\n",
    "a) The Graph is an object having multiple fields:\n",
    "- adjacency matrix\n",
    "- size\n",
    "- vertex data \n",
    "\n",
    "b) There are multiple methods\n",
    "- `add_edge` allows adding an edge with a corresponding weight\n",
    "- `add_vertex_data` adds data to a vertex\n",
    "- `dijkstra` runs the Dijkstra algortithm from a starting node\n",
    "\n",
    "c) Read the code from the `dijkstra` method and verify that it performs the Dijkstra algorithm on the given graph, starting from the chosen original node.\n",
    "\n",
    "</div>"
   ]
  },
  {
   "cell_type": "code",
   "execution_count": 3,
   "id": "8d2034ad-adeb-4a8e-83d9-96634c492a68",
   "metadata": {},
   "outputs": [],
   "source": [
    "class Graph:\n",
    "    def __init__(self, size):\n",
    "        self.adj_matrix = [[0] * size for _ in range(size)]\n",
    "        self.size = size\n",
    "        self.vertex_data = [''] * size\n",
    "\n",
    "    def add_edge(self, u, v, weight):\n",
    "        if 0 <= u < self.size and 0 <= v < self.size:\n",
    "            self.adj_matrix[u][v] = weight\n",
    "            self.adj_matrix[v][u] = weight  # For undirected graph\n",
    "\n",
    "    def add_vertex_data(self, vertex, data):\n",
    "        if 0 <= vertex < self.size:\n",
    "            self.vertex_data[vertex] = data\n",
    "\n",
    "    def dijkstra(self, start_vertex_data):\n",
    "        start_vertex = self.vertex_data.index(start_vertex_data)\n",
    "        distances = [float('inf')] * self.size\n",
    "        distances[start_vertex] = 0\n",
    "        visited = [False] * self.size\n",
    "\n",
    "        for _ in range(self.size):\n",
    "            min_distance = float('inf')\n",
    "            u = None\n",
    "            for i in range(self.size):\n",
    "                if not visited[i] and distances[i] < min_distance:\n",
    "                    min_distance = distances[i]\n",
    "                    u = i\n",
    "\n",
    "            if u is None:\n",
    "                break\n",
    "\n",
    "            visited[u] = True\n",
    "\n",
    "            for v in range(self.size):\n",
    "                if self.adj_matrix[u][v] != 0 and not visited[v]:\n",
    "                    alt = distances[u] + self.adj_matrix[u][v]\n",
    "                    if alt < distances[v]:\n",
    "                        distances[v] = alt\n",
    "\n",
    "        return distances"
   ]
  },
  {
   "cell_type": "code",
   "execution_count": 4,
   "id": "b3bb7424-5bd8-4cb3-a664-7520ae6ac15f",
   "metadata": {},
   "outputs": [
    {
     "name": "stdout",
     "output_type": "stream",
     "text": [
      "\n",
      "Dijkstra's Algorithm starting from vertex D:\n",
      "Distance from D to A: 4\n",
      "Distance from D to B: 8\n",
      "Distance from D to C: 6\n",
      "Distance from D to D: 0\n",
      "Distance from D to E: 2\n",
      "Distance from D to F: 10\n",
      "Distance from D to G: 7\n"
     ]
    }
   ],
   "source": [
    "g = Graph(7)\n",
    "\n",
    "g.add_vertex_data(0, 'A')\n",
    "g.add_vertex_data(1, 'B')\n",
    "g.add_vertex_data(2, 'C')\n",
    "g.add_vertex_data(3, 'D')\n",
    "g.add_vertex_data(4, 'E')\n",
    "g.add_vertex_data(5, 'F')\n",
    "g.add_vertex_data(6, 'G')\n",
    "\n",
    "g.add_edge(3, 0, 4)  # D - A, weight 5\n",
    "g.add_edge(3, 4, 2)  # D - E, weight 2\n",
    "g.add_edge(0, 2, 3)  # A - C, weight 3\n",
    "g.add_edge(0, 4, 4)  # A - E, weight 4\n",
    "g.add_edge(4, 2, 4)  # E - C, weight 4\n",
    "g.add_edge(4, 6, 5)  # E - G, weight 5\n",
    "g.add_edge(2, 5, 5)  # C - F, weight 5\n",
    "g.add_edge(2, 1, 2)  # C - B, weight 2\n",
    "g.add_edge(1, 5, 2)  # B - F, weight 2\n",
    "g.add_edge(6, 5, 5)  # G - F, weight 5\n",
    "\n",
    "# Dijkstra's algorithm from D to all vertices\n",
    "print(\"\\nDijkstra's Algorithm starting from vertex D:\")\n",
    "distances = g.dijkstra('D')\n",
    "for i, d in enumerate(distances):\n",
    "    print(f\"Distance from D to {g.vertex_data[i]}: {d}\")"
   ]
  },
  {
   "cell_type": "code",
   "execution_count": 53,
   "id": "dd4827b4-1d51-4df0-a66d-8dba1ada562a",
   "metadata": {},
   "outputs": [
    {
     "name": "stdout",
     "output_type": "stream",
     "text": [
      "[[0, 0, 3, 4, 4, 0, 0], [0, 0, 2, 0, 0, 2, 0], [3, 2, 0, 0, 4, 5, 0], [4, 0, 0, 0, 2, 0, 0], [4, 0, 4, 2, 0, 0, 5], [0, 2, 5, 0, 0, 0, 5], [0, 0, 0, 0, 5, 5, 0]]\n",
      "[[0 0 3 4 4 0 0]\n",
      " [0 0 2 0 0 2 0]\n",
      " [3 2 0 0 4 5 0]\n",
      " [4 0 0 0 2 0 0]\n",
      " [4 0 4 2 0 0 5]\n",
      " [0 2 5 0 0 0 5]\n",
      " [0 0 0 0 5 5 0]]\n"
     ]
    },
    {
     "data": {
      "image/png": "[encoded data removed]",
      "text/plain": [
       "<Figure size 640x480 with 1 Axes>"
      ]
     },
     "metadata": {},
     "output_type": "display_data"
    }
   ],
   "source": [
    "import numpy as np\n",
    "import matplotlib.pyplot as plt\n",
    "import networkx as nx\n",
    "\n",
    "print(g.adj_matrix)\n",
    "Mat = np.array(g.adj_matrix)\n",
    "print(Mat)\n",
    "rows, cols = np.where(Mat != 0)\n",
    "gr = nx.Graph()\n",
    "\n",
    "for i in range(0,len(rows)):\n",
    "    weights[i] = Mat[rows[i],cols[i]]\n",
    "    gr.add_edges_from([(rows[i],cols[i])],weight=weights[i])\n",
    "\n",
    "pos=nx.spring_layout(gr) # pos = nx.nx_agraph.graphviz_layout(G)\n",
    "nx.draw_networkx(gr,pos,with_labels=False)\n",
    "elabels = nx.get_edge_attributes(gr,'weight')\n",
    "nx.draw_networkx_edge_labels(gr,pos,edge_labels=elabels)\n",
    "labels = {}\n",
    "labels[0] = r\"$A$\"\n",
    "labels[1] = r\"$B$\"\n",
    "labels[2] = r\"$C$\"\n",
    "labels[3] = r\"$D$\"\n",
    "labels[4] = r\"$E$\"\n",
    "labels[5] = r\"$F$\"\n",
    "labels[6] = r\"$G$\"\n",
    "labels = nx.draw_networkx_labels(gr, pos,labels,font_size=16,font_color='white')\n",
    "plt.show()"
   ]
  },
  {
   "cell_type": "markdown",
   "id": "75c77335-6fa4-4b60-a9cb-f5cf91e8d9f7",
   "metadata": {},
   "source": [
    "<div style=\"background-color:lightblue;margin:20px;padding:10px;border-radius:10px;border-width:2px;border-color:black;box-shadow:5px 5px\">\n",
    "\n",
    "**Exercise 4**  Run the previous algorithm on the graph described previously: (see image below)\n",
    "\n",
    "![alt text](Example_Graph1.svg \"Graph Example\")\n",
    "\n",
    "Check that the numerical algorithm gives the same answer as the one found by hand (The origin is $D$ and the target is $F$).\n",
    "\n",
    "</div>"
   ]
  },
  {
   "cell_type": "markdown",
   "id": "54ab08fb-5902-4494-88dc-b3a9743533a6",
   "metadata": {},
   "source": [
    "**Additional exercises**\n",
    "\n",
    "1. Project Euler, Problem 18: https://projecteuler.net/problem=18\n",
    "- No need to create graph: the source node is the top, unvisited neighbors are always the two numbers directly below. A dynamical programming solution can also be given, but may be more costly.\n",
    "\n",
    "3. Project Euler, problem 81: https://projecteuler.net/problem=81   \n",
    "- there is no need to create a graph, just apply Dijkstra's algorithm on the matrix, observing the unvisited neighbors of a current element\n",
    "\n",
    "3. Project Euler, problem 82: https://projecteuler.net/problem=82\n",
    "- note that the minimal distance from any element on the left column to any element of the right column needs to be computed. It is possible to run Dijkstra's algorithm for all starting nodes on the left and record the minimal path length.\n",
    "- Problem 83 from Project Euler adds another complication\n"
   ]
  },
  {
   "cell_type": "code",
   "execution_count": null,
   "id": "ec2f702d-d293-42b2-86ba-4c56e5db9b55",
   "metadata": {},
   "outputs": [],
   "source": []
  }
 ],
 "metadata": {
  "kernelspec": {
   "display_name": "Python 3 (ipykernel)",
   "language": "python",
   "name": "python3"
  },
  "language_info": {
   "codemirror_mode": {
    "name": "ipython",
    "version": 3
   },
   "file_extension": ".py",
   "mimetype": "text/x-python",
   "name": "python",
   "nbconvert_exporter": "python",
   "pygments_lexer": "ipython3",
   "version": "3.12.1"
  }
 },
 "nbformat": 4,
 "nbformat_minor": 5
}
