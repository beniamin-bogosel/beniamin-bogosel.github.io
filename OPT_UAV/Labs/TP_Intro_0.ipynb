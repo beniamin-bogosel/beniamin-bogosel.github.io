{
 "cells": [
  {
   "cell_type": "markdown",
   "id": "f286cb13-633e-46d1-9948-eea29a95ea51",
   "metadata": {},
   "source": [
    "**Discrete Optimization and Introduction to Python**\n",
    "\n",
    "Discrete optimization refers to finding an object from a **finite set** which minimizes a given quantity. Simplest examples are:\n",
    "\n",
    "- Find the minimum value in an array of real values.\n",
    "- Given a set of points in 2D or 3D find the shortest distance between two points\n",
    "\n",
    "All discrete optimization problems **could** be solved using a brute force approach: enumerate all possibilities, remember the best one. Nevertheless, this quickly becomes infeasible even for simple looking problems. Complexity can grow beyond the available computational power. Therefore **smarter algorithms** should be used whenever additional structure is present (graphs, for example).\n",
    "\n",
    "Coding for this course will be done using **Python**. In particular Jupyter Notebooks will be used (code and markdown will be available in a .ipynb file which can be opened in a web browser or in Visual Studio). \n",
    "\n",
    "**Important reflex**: as a programmer you should always be ready to search the documentation online for solutions to problems you don't know how to solve. \n",
    "\n",
    "- use a search engine: \"how to initialize an array in Python\", \"how to access the 5th character of a string in python\", \"how to concatenate two strings in python\"\n",
    "- many ideas and solutions to various problems are available online or on Stack Overflow"
   ]
  },
  {
   "cell_type": "code",
   "execution_count": 31,
   "id": "73d03070-744b-4862-9d65-d889adff5b9a",
   "metadata": {},
   "outputs": [
    {
     "name": "stdout",
     "output_type": "stream",
     "text": [
      "a= 1\n",
      "Hello world!\n",
      "3   3   9\n"
     ]
    }
   ],
   "source": [
    "# this is a comment\n",
    "# variables can be initialized directly (no type needs to be indicated)\n",
    "a = 1\n",
    "b = 2\n",
    "\n",
    "# printing is easy, separate with commas\n",
    "print(\"a=\",a)\n",
    "\n",
    "# strings can be defined using double quotes\n",
    "str = \"Hello world!\"\n",
    "print(str)\n",
    "\n",
    "# usual operations can be performed\n",
    "c = 3\n",
    "d = a+b\n",
    "e = c*d\n",
    "print(c,\" \",d,\" \",e)"
   ]
  },
  {
   "cell_type": "code",
   "execution_count": 32,
   "id": "bb9d2775-0cee-4f31-95e0-3da6c96dc484",
   "metadata": {},
   "outputs": [
    {
     "name": "stdout",
     "output_type": "stream",
     "text": [
      "-1.0\n",
      "20.085536923187668\n",
      "0.9999999999999999\n"
     ]
    }
   ],
   "source": [
    "# to access mathematical functions we need to import them from the module math\n",
    "# search the doc if something else is needed\n",
    "\n",
    "from math import *\n",
    "\n",
    "print(cos(pi))\n",
    "print(exp(3))\n",
    "print(tan(pi/4))"
   ]
  },
  {
   "cell_type": "code",
   "execution_count": 33,
   "id": "2cf3706c-f88a-4764-809b-fddb5de1e133",
   "metadata": {},
   "outputs": [
    {
     "name": "stdout",
     "output_type": "stream",
     "text": [
      "a has the value 1\n"
     ]
    }
   ],
   "source": [
    "# if-else syntax: indenting is essential\n",
    "# note the \":\" at the end of the condition and after else\n",
    "# the blocks inside the if-else are completely determined by the indentation\n",
    "\n",
    "# code before\n",
    "if a==1:\n",
    "    # some instructions\n",
    "    print(\"a has the value 1\")\n",
    "else:\n",
    "    # some instructions\n",
    "    print(\"a does not have the value 1\")\n",
    "\n",
    "# the code continues"
   ]
  },
  {
   "cell_type": "code",
   "execution_count": 34,
   "id": "d74775bb-a440-4ef3-ad2d-0a560a0ce6ed",
   "metadata": {},
   "outputs": [
    {
     "name": "stdout",
     "output_type": "stream",
     "text": [
      "[4 3 2 1]\n",
      "[0. 0. 0. 0. 0.]\n",
      "[[0. 0.]\n",
      " [0. 0.]\n",
      " [0. 0.]\n",
      " [0. 0.]\n",
      " [0. 0.]]\n",
      "[0.  0.1 0.2 0.3 0.4 0.5 0.6 0.7 0.8 0.9 1. ]\n"
     ]
    }
   ],
   "source": [
    "# numpy is a module allowing to easily work with matrices and vectors\n",
    "\n",
    "import numpy as np\n",
    "\n",
    "# initialize a vector like this\n",
    "a = np.array([4,3,2,1])\n",
    "print(a)\n",
    "\n",
    "# initialization with zeros\n",
    "a = np.zeros(5)\n",
    "print(a)\n",
    "\n",
    "# initialization of a matrix with zeros\n",
    "a = np.zeros((5,2))\n",
    "print(a)\n",
    "\n",
    "# initialization with an arithmetic progression\n",
    "# start-finish-number of elements\n",
    "a = np.linspace(0,1,11)\n",
    "print(a)\n",
    "\n"
   ]
  },
  {
   "cell_type": "code",
   "execution_count": 18,
   "id": "33f22918-f13d-450c-ba0b-d37fff7c6cc0",
   "metadata": {},
   "outputs": [
    {
     "name": "stdout",
     "output_type": "stream",
     "text": [
      "12\n"
     ]
    }
   ],
   "source": [
    "# Function definition\n",
    "# \"def\" followed by function name\n",
    "# argument list between (   ) , separated by commas\n",
    "# ending with :\n",
    "# indentation shows what part of the code is in the function\n",
    "# keyword \"return\" indicates the variables in the output\n",
    "# anything can be an input, anything can be an output! \n",
    "\n",
    "def funcname(arg1,arg2):\n",
    "    # this function adds the second argument to twice the first one\n",
    "    result = arg2+2*arg1\n",
    "    return result\n",
    "\n",
    "print(funcname(1,10))"
   ]
  },
  {
   "cell_type": "code",
   "execution_count": 23,
   "id": "e4c908f9-26d1-4b95-82fe-16c2b1966375",
   "metadata": {},
   "outputs": [
    {
     "name": "stdout",
     "output_type": "stream",
     "text": [
      "[3, 2, 5, 3, 4, 7, 8, 3]\n",
      "The length of a is  8\n",
      "3\n",
      "3\n",
      "Index  0  has value  3\n",
      "Index  1  has value  2\n",
      "Index  2  has value  5\n",
      "Index  3  has value  3\n",
      "Index  4  has value  4\n",
      "Index  5  has value  7\n",
      "Index  6  has value  8\n",
      "Index  7  has value  3\n"
     ]
    }
   ],
   "source": [
    "# basic loops:\n",
    "# while(condition):  + indented code\n",
    "# for loop below\n",
    "\n",
    "a = [3,2,5,3,4,7,8,3]\n",
    "print(a)\n",
    "print(\"The length of a is \",len(a))\n",
    "\n",
    "# indexing starts at 0!!!\n",
    "\n",
    "print(a[0])\n",
    "print(a[-1])\n",
    "\n",
    "# for loop \n",
    "# note the usage of range(start,finish)\n",
    "for i in range(0,len(a)):\n",
    "    print(\"Index \",i,\" has value \",a[i])\n"
   ]
  },
  {
   "cell_type": "markdown",
   "id": "5573d962-b05c-4a39-bc6f-a42da3a91005",
   "metadata": {},
   "source": [
    "<div style=\"background-color:lightblue;margin:20px;padding:10px;border-radius:10px;border-width:2px;border-color:black;box-shadow:5px 5px\">\n",
    "\n",
    "**Exercise 1**\n",
    "\n",
    "a) Write a function which finds the minimum in an array. What is the complexity of such a function? \n",
    "\n",
    "b) Search the documentation to find commands which achieve this in Python.\n",
    "\n",
    "</div>"
   ]
  },
  {
   "cell_type": "code",
   "execution_count": null,
   "id": "aa0c3cfe-abf5-490f-a4da-14fb0a8f6700",
   "metadata": {},
   "outputs": [],
   "source": [
    "def findMin(a):\n",
    "    .......\n",
    "    return minValue"
   ]
  },
  {
   "cell_type": "markdown",
   "id": "6072ae6f-9992-44b7-bf47-fcef4f44f18b",
   "metadata": {},
   "source": [
    "<div style=\"background-color:lightblue;margin:20px;padding:10px;border-radius:10px;border-width:2px;border-color:black;box-shadow:5px 5px\">\n",
    "\n",
    "**Exercise 2** Consider $n$ points in the plane. Find the pair of distinct points which achieves the minimal distance. Implement a function recieving the points as a $n\\times 2$ matrix and output the indices of the line corresponding to the two points at minimal distance.\n",
    "\n",
    "- the distance between two points `a`, `b` can be computed uning `np.linalg.norm(a-b)`.\n",
    "- use a double loop to explore all pairs of points\n",
    "- search the documentation for solutions that are already implemented (`KDtree`, `cdist`)\n",
    "\n",
    "- </div>"
   ]
  },
  {
   "cell_type": "code",
   "execution_count": 26,
   "id": "e2b21401-ae7c-4d96-ac78-d1f33503b179",
   "metadata": {},
   "outputs": [
    {
     "name": "stdout",
     "output_type": "stream",
     "text": [
      "[[0.38483462 0.59731232]\n",
      " [0.35268633 0.1313765 ]\n",
      " [0.35623919 0.96859267]\n",
      " [0.5555777  0.0712204 ]\n",
      " [0.34987639 0.64825729]\n",
      " [0.71923562 0.07127628]\n",
      " [0.08843163 0.17567479]\n",
      " [0.30139879 0.03273172]\n",
      " [0.06481635 0.48680037]\n",
      " [0.35619171 0.14709438]]\n"
     ]
    }
   ],
   "source": [
    "# random points can be generated using np.random\n",
    "\n",
    "npts = 10 # the number of points\n",
    "a = np.random.random((npts,2))\n",
    "print(a)"
   ]
  },
  {
   "cell_type": "code",
   "execution_count": 27,
   "id": "eca8c919-0dd0-4212-800c-60f3ff17b26d",
   "metadata": {},
   "outputs": [
    {
     "data": {
      "image/png": "[encoded data removed]",
      "text/plain": [
       "<Figure size 640x480 with 1 Axes>"
      ]
     },
     "metadata": {},
     "output_type": "display_data"
    }
   ],
   "source": [
    "# let us plot the points using the pyplot library\n",
    "import matplotlib.pyplot as plt\n",
    "\n",
    "plt.figure()   # generates a figure\n",
    "plt.plot(a[:,0],a[:,1],'.')  # plot points using dots\n",
    "plt.show()     # show the plot\n"
   ]
  },
  {
   "cell_type": "code",
   "execution_count": 30,
   "id": "26ff6abc-1cfa-43a6-9291-8fd4e6730183",
   "metadata": {},
   "outputs": [
    {
     "name": "stdout",
     "output_type": "stream",
     "text": [
      "10\n"
     ]
    }
   ],
   "source": [
    "# the distance between points a and b can be computed using\n",
    "# np.linalg.norm(a-b)\n",
    "\n",
    "\n",
    "def minDist(mat):\n",
    "    shape = np.shape(mat)  # recover the shape of the array\n",
    "    npts  = shape[0]       # the number of lines is the number of points\n",
    "    print(npts)\n",
    "    # double loop\n",
    "\n",
    "    # return the minimal value\n",
    "    # return minVal\n",
    "\n",
    "minDist(a)\n",
    "\n",
    "    "
   ]
  },
  {
   "cell_type": "code",
   "execution_count": null,
   "id": "b21aee07-fe80-4303-90ae-e166b2fa2192",
   "metadata": {},
   "outputs": [],
   "source": []
  }
 ],
 "metadata": {
  "kernelspec": {
   "display_name": "Python 3 (ipykernel)",
   "language": "python",
   "name": "python3"
  },
  "language_info": {
   "codemirror_mode": {
    "name": "ipython",
    "version": 3
   },
   "file_extension": ".py",
   "mimetype": "text/x-python",
   "name": "python",
   "nbconvert_exporter": "python",
   "pygments_lexer": "ipython3",
   "version": "3.12.1"
  }
 },
 "nbformat": 4,
 "nbformat_minor": 5
}
