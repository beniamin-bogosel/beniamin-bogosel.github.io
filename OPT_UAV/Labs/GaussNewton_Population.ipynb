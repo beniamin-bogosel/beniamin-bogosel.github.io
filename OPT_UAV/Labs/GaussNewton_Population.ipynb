{
 "cells": [
  {
   "cell_type": "code",
   "execution_count": 33,
   "metadata": {
    "scrolled": false
   },
   "outputs": [
    {
     "name": "stdout",
     "output_type": "stream",
     "text": [
      "70\n",
      "[1.         0.98529412 0.97058824 0.95588235 0.94117647 0.92647059\n",
      " 0.91176471 0.89705882 0.88235294 0.86764706 0.85294118 0.83823529\n",
      " 0.82352941 0.80882353 0.79411765 0.77941176 0.76470588 0.75\n",
      " 0.73529412 0.72058824 0.70588235 0.69117647 0.67647059 0.66176471\n",
      " 0.64705882 0.63235294 0.61764706 0.60294118 0.58823529 0.57352941\n",
      " 0.55882353 0.54411765 0.52941176 0.51470588 0.5        0.48529412\n",
      " 0.47058824 0.45588235 0.44117647 0.42647059 0.41176471 0.39705882\n",
      " 0.38235294 0.36764706 0.35294118 0.33823529 0.32352941 0.30882353\n",
      " 0.29411765 0.27941176 0.26470588 0.25       0.23529412 0.22058824\n",
      " 0.20588235 0.19117647 0.17647059 0.16176471 0.14705882 0.13235294\n",
      " 0.11764706 0.10294118 0.08823529 0.07352941 0.05882353 0.04411765\n",
      " 0.02941176 0.01470588 0.        ]\n",
      "Initial value: 2526.975686152469\n"
     ]
    },
    {
     "data": {
      "image/png": "[encoded data removed]",
      "text/plain": [
       "<Figure size 432x288 with 1 Axes>"
      ]
     },
     "metadata": {
      "needs_background": "light"
     },
     "output_type": "display_data"
    },
    {
     "name": "stdout",
     "output_type": "stream",
     "text": [
      "Finite diff:  9168.657043574058\n",
      "Analytic   :  9168.657044864593\n"
     ]
    }
   ],
   "source": [
    "import numpy as np\n",
    "import pylab as pl\n",
    "import matplotlib.pyplot as plt\n",
    "import csv\n",
    "data = np.genfromtxt('./WorldPopulation.csv', delimiter=',', names=True)\n",
    "    \n",
    "#data['Year']\n",
    "data['Population']\n",
    "\n",
    "T   = data['Year']\n",
    "Pop = data['Population']/1e9\n",
    "\n",
    "Ttarget = np.array([2050,2100])\n",
    "\n",
    "\n",
    "N = np.size(data['Population'])\n",
    "print(N)\n",
    "\n",
    "Nb = 1\n",
    "\n",
    "T = T[:-Nb]\n",
    "Pop = Pop[:-Nb]\n",
    "N = np.size(T)\n",
    "\n",
    "m = T.min()\n",
    "M = T.max()\n",
    "T = (T-m)/(M-m);\n",
    "\n",
    "Ttarget = (Ttarget-m)/(M-m)\n",
    "print(T)\n",
    "\n",
    "mult = 1\n",
    "\n",
    "m1 = 0.1\n",
    "m2 = 0.9\n",
    "Tol = 5e-10\n",
    "Maxiter = 2000\n",
    "\n",
    "variant = 1\n",
    "\n",
    "if variant==1:\n",
    "    x0 = np.array([3,2])\n",
    "if variant==2:\n",
    "    x0 = np.array([12,3,3])\n",
    "\n",
    "# parameters for variant 1: cellphones\n",
    "\n",
    "def r(x):\n",
    "    if variant==1:\n",
    "        return np.array([\n",
    "           Pop[i]-x[0]*np.exp(x[1]*T[i])  for i in range(0,N)\n",
    "        ])\n",
    "    if variant==2:\n",
    "        return np.array([\n",
    "           Pop[i]-x[0]/(1+x[1]*np.exp(-x[2]*T[i])) for i in range(0,N)\n",
    "        ])\n",
    "\n",
    "def Jac(x):\n",
    "    if variant==1:\n",
    "        return np.array([\n",
    "           np.array([-np.exp(x[1]*T[i]),-x[0]*T[i]*np.exp(x[1]*T[i])])  for i in range(0,N)\n",
    "        ])\n",
    "    if variant==2:\n",
    "        return np.array([\n",
    "           np.array([-1/(1+x[1]*np.exp(-x[2]*T[i])),\\\n",
    "                     x[0]*np.exp(-x[2]*T[i])/(1+x[1]*np.exp(-x[2]*T[i]))**2,\\\n",
    "                     -x[0]*x[1]*T[i]*np.exp(-x[2]*T[i])/(1+x[1]*np.exp(-x[2]*T[i]))**2\\\n",
    "                    ])  for i in range(0,N)\n",
    "        ])\n",
    "\n",
    "    \n",
    "def J(x):\n",
    "    res = r(x);\n",
    "    return sum(res**2)\n",
    "        \n",
    "        \n",
    "def GradJ(x):\n",
    "    res = r(x)\n",
    "    Jr  = 2*Jac(x)\n",
    "    return Jr.T@res\n",
    "    \n",
    "    \n",
    "def GNdir(x):\n",
    "    res = r(x)\n",
    "    Jr  = Jac(x)\n",
    "    Mat = Jr.T@Jr\n",
    "    try:\n",
    "        d = -np.linalg.solve(Mat,Jr.T@res)\n",
    "        return d\n",
    "    except:\n",
    "        print(\"could not invert GN matrix\")\n",
    "        return Jr.T@res\n",
    "\n",
    "\n",
    "print(\"Initial value:\",J(x0))\n",
    "plt.figure()\n",
    "plt.plot(T,Pop)\n",
    "\n",
    "plt.show()\n",
    "\n",
    "\n",
    "# gradient test\n",
    "epst = 1e-6\n",
    "direction = np.random.random(np.size(x0))\n",
    "\n",
    "v1 = J(x0+epst*direction)\n",
    "v2 = J(x0-epst*direction)\n",
    "\n",
    "g = GradJ(x0)\n",
    "print(\"Finite diff: \",(v1-v2)/2/epst)\n",
    "print(\"Analytic   : \",np.dot(g,direction))\n",
    "\n",
    "\n"
   ]
  },
  {
   "cell_type": "code",
   "execution_count": 34,
   "metadata": {},
   "outputs": [],
   "source": [
    "def GDlinesearch(f,df,x0,tol,maxiter,m1,m2,GN=1):\n",
    "    phist = []\n",
    "    vhist = []\n",
    "    ghist = []\n",
    "    phist.append(x0)            # Create an array which holds the optimization history\n",
    " \n",
    "    val = f(x0)\n",
    "    gd   = df(x0)\n",
    "    vhist.append(val)\n",
    "    ghist.append(gd)\n",
    "    iter = 0\n",
    "    step = 0.1\n",
    "    prevval = val\n",
    "    d = gd\n",
    "    while abs(np.linalg.norm(gd))>=Tol: \n",
    "        iter=iter+1\n",
    "        if(iter>1e3):\n",
    "            GN=1\n",
    "        #Line search\n",
    "        tl=0\n",
    "        tr=0\n",
    "        t=1\n",
    "        step=t\n",
    "        # choice of the descent direction  \n",
    "        if GN==1:\n",
    "            d = GNdir(x0)\n",
    "        else:\n",
    "            d = -gd\n",
    "    \n",
    "\n",
    "        #np.sqrt(abs((f(x0+step*d,v)-val)))/step<np.sqrt(abs(-(m1*(d*d))))\n",
    "        while (1==1):\n",
    "            qt = f(x0+t*d)\n",
    "            qp = np.dot(gd,d)\n",
    "            #print(qp)\n",
    "            #print(tl,\" \",tr)\n",
    "            xnext = x0+step*d\n",
    "            if ((qt-val)/t<=(m1*qp)) and ((qt-val)/t>=(m2*qp)):\n",
    "                step=t   # we found a good step\n",
    "                break\n",
    "            if ((qt-val)/t>(m1*qp)):\n",
    "                # step too big\n",
    "                tr = t\n",
    "            if ((qt-val)/t<(m2*qp)):\n",
    "                # step too small\n",
    "                tl = t\n",
    "            if(tr==0):\n",
    "                t = 2*tl\n",
    "            else:\n",
    "                t = 0.5*(tl+tr)\n",
    "            if abs(tr-tl)<1e-15*tr or tr<1e-15:\n",
    "                break\n",
    "        if(np.linalg.norm(step*d)/np.linalg.norm(x0)<Tol):\n",
    "            print(\"Too small change!\")\n",
    "            #d = -gd\n",
    "            #step = 0.1\n",
    "            break\n",
    "        x0 = x0+step*(d)\n",
    "        val = f(x0)\n",
    "        gd   = df(x0)\n",
    "        \n",
    "        if(iter%10==0):\n",
    "            print(\"Iter: \",iter,\"| Val: \",val,\"| Step: \",step,\" Grad: \",abs(np.linalg.norm(gd)))\n",
    "        phist.append(x0)\n",
    "        vhist.append(val)\n",
    "        ghist.append(d)\n",
    "        if(iter>maxiter):\n",
    "            print('Maximum number of iterations reached!')\n",
    "            break\n",
    "        #if(abs(val-prevval)<Tol):\n",
    "            #print('Function does not decrease enough!')\n",
    "            #break\n",
    "        prevval = val\n",
    "    if(np.linalg.norm(d)<Tol): \n",
    "        print('Algorithm converged!')\n",
    "    print('')\n",
    "    print('Final output:')\n",
    "    print(\"Iter: \",iter,\"| Val: \",val,\"| Step: \",step,\" Grad: \",abs(np.linalg.norm(gd)))\n",
    "    return phist,vhist,ghist"
   ]
  },
  {
   "cell_type": "code",
   "execution_count": 35,
   "metadata": {
    "scrolled": false
   },
   "outputs": [
    {
     "name": "stdout",
     "output_type": "stream",
     "text": [
      "Too small change!\n",
      "\n",
      "Final output:\n",
      "Iter:  8 | Val:  1.6998114977340621 | Step:  1  Grad:  1.4861507400406093e-07\n",
      "Number of iterations:  8\n",
      "Final position:  [2.84364775 1.05192156]\n"
     ]
    }
   ],
   "source": [
    "pp,vv,gg = GDlinesearch(J,GradJ,x0,Tol,Maxiter,m1,m2,GN=1)\n",
    "\n",
    "print('Number of iterations: ',len(pp))\n",
    "print('Final position: ',pp[-1])\n",
    "\n"
   ]
  },
  {
   "cell_type": "code",
   "execution_count": 36,
   "metadata": {
    "scrolled": false
   },
   "outputs": [
    {
     "name": "stdout",
     "output_type": "stream",
     "text": [
      "[2.84364775 1.05192156]\n"
     ]
    },
    {
     "data": {
      "image/png": "[encoded data removed]",
      "text/plain": [
       "<Figure size 432x288 with 1 Axes>"
      ]
     },
     "metadata": {
      "needs_background": "light"
     },
     "output_type": "display_data"
    },
    {
     "name": "stdout",
     "output_type": "stream",
     "text": [
      "Predictions:  [12.94995406 28.06614295]\n"
     ]
    }
   ],
   "source": [
    "plt.figure()\n",
    "plt.plot(T,Pop,'rx')\n",
    "\n",
    "xf = pp[-1]\n",
    "\n",
    "print(xf)\n",
    "if variant==1:\n",
    "    zz = np.array([xf[0]*np.exp(xf[1]*(T[i]))  for i in range(0,N)])\n",
    "    TargetEval = xf[0]*np.exp(xf[1]*(Ttarget))\n",
    "if variant==2:\n",
    "    zz = np.array([xf[0]/(1+xf[1]*np.exp(-xf[2]*(T[i])))  for i in range(0,N)])\n",
    "    TargetEval = xf[0]/(1+xf[1]*np.exp(-xf[2]*(Ttarget)))\n",
    "    \n",
    "plt.plot(T,zz,'bx')\n",
    "plt.show()\n",
    "\n",
    "\n",
    "print(\"Predictions: \",TargetEval)"
   ]
  },
  {
   "cell_type": "code",
   "execution_count": 19,
   "metadata": {
    "scrolled": false
   },
   "outputs": [
    {
     "name": "stdout",
     "output_type": "stream",
     "text": [
      "inf\n"
     ]
    },
    {
     "name": "stderr",
     "output_type": "stream",
     "text": [
      "/home/beni/miniconda3/lib/python3.7/site-packages/ipykernel_launcher.py:1: RuntimeWarning: overflow encountered in exp\n",
      "  \"\"\"Entry point for launching an IPython kernel.\n"
     ]
    }
   ],
   "source": [
    "print(np.exp(2000))"
   ]
  },
  {
   "cell_type": "code",
   "execution_count": null,
   "metadata": {},
   "outputs": [],
   "source": []
  },
  {
   "cell_type": "code",
   "execution_count": null,
   "metadata": {},
   "outputs": [],
   "source": []
  },
  {
   "cell_type": "code",
   "execution_count": null,
   "metadata": {},
   "outputs": [],
   "source": []
  }
 ],
 "metadata": {
  "kernelspec": {
   "display_name": "Python 3",
   "language": "python",
   "name": "python3"
  },
  "language_info": {
   "codemirror_mode": {
    "name": "ipython",
    "version": 3
   },
   "file_extension": ".py",
   "mimetype": "text/x-python",
   "name": "python",
   "nbconvert_exporter": "python",
   "pygments_lexer": "ipython3",
   "version": "3.7.3"
  }
 },
 "nbformat": 4,
 "nbformat_minor": 2
}
