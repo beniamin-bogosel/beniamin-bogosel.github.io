{
 "cells": [
  {
   "cell_type": "markdown",
   "id": "067e0592-5b7b-4822-953e-18920d459be8",
   "metadata": {},
   "source": [
    "**Session 1 - The Assignment Problem**\n",
    "\n",
    "There are $n$ persons who apply for $n$ jobs. Each person has a particular cost associated to a given job (different criteria: salary, time of execution, etc.). To each person exactly one job should be given.\n",
    "- Person $i$ has cost $c_{i,j}$ for job $j$\n",
    "\n",
    "**Optimal Assignment Problem**: Find the job assignment giving the smallest total cost.\n",
    "\n",
    "**Example:** See the slides.  \n",
    "\n",
    "**Question**: What is the cost of the bruteforce algorithm which enumerates all possible assignments? (Hint: it is related to the number of permutations of $n$ objects).\n",
    "\n",
    "\n",
    "    "
   ]
  },
  {
   "cell_type": "markdown",
   "id": "af41c8f4-4e93-4eec-9959-3020dc575fe8",
   "metadata": {},
   "source": [
    "<div style=\"background-color:lightblue;margin:20px;padding:10px;border-radius:10px;border-width:2px;border-color:black;box-shadow:5px 5px\">\n",
    "\n",
    "\n",
    "**Part 1 - Brute force for small $n$**  \n",
    "\n",
    "Write a brute force algorithm iterating over all possible permutations and finding the one with the smallest cost. \n",
    "\n",
    "a) Compute $n! = 1\\times 2 \\times ... \\times n$ for $n=1,2,3,...,10$. Decide for which values of $n$ the brute algorithm can give results in a reasonable time. \n",
    "\n",
    "b) Using `itertools` print all permutations for a given list of objects. \n",
    "\n",
    "c) Given a $n\\times n$ cost matrix $c_{i,j}$ find the permutation giving the optimal assignment.\n",
    "\n",
    "</div>"
   ]
  },
  {
   "cell_type": "markdown",
   "id": "f7296397-3bb3-4931-a9c7-54144c3564c6",
   "metadata": {},
   "source": []
  },
  {
   "cell_type": "code",
   "execution_count": 2,
   "id": "b34a4a83-4539-4da0-a097-ea6a5faa2434",
   "metadata": {},
   "outputs": [
    {
     "name": "stdout",
     "output_type": "stream",
     "text": [
      "(1, 2, 3)\n",
      "Accessing elements of a[i]:  1   2   3\n",
      "(1, 3, 2)\n",
      "Accessing elements of a[i]:  1   3   2\n",
      "(2, 1, 3)\n",
      "Accessing elements of a[i]:  2   1   3\n",
      "(2, 3, 1)\n",
      "Accessing elements of a[i]:  2   3   1\n",
      "(3, 1, 2)\n",
      "Accessing elements of a[i]:  3   1   2\n",
      "(3, 2, 1)\n",
      "Accessing elements of a[i]:  3   2   1\n"
     ]
    }
   ],
   "source": [
    "import itertools\n",
    "a = list(itertools.permutations([1, 2, 3]))\n",
    "\n",
    "for i in range(0,len(a)):\n",
    "    print(a[i])\n",
    "    print(\"Accessing elements of a[i]: \",a[i][0],\" \",a[i][1],\" \",a[i][2])\n",
    "    \n",
    "    "
   ]
  },
  {
   "cell_type": "code",
   "execution_count": 3,
   "id": "3906080a-3d10-4616-ae5e-0c166c5fc10e",
   "metadata": {},
   "outputs": [
    {
     "name": "stdout",
     "output_type": "stream",
     "text": [
      "[[28 79 58]\n",
      " [52 41 98]\n",
      " [68 47  0]]\n"
     ]
    }
   ],
   "source": [
    "import numpy as np\n",
    "import array\n",
    "\n",
    "max_int = 100    # upper bound for the cost\n",
    "n = 3            # the number of jobs\n",
    "\n",
    "# Create a random cost matrix\n",
    "cost_matrix = np.random.randint(max_int, size=(n,n))\n",
    "\n",
    "print(cost_matrix)"
   ]
  },
  {
   "cell_type": "code",
   "execution_count": 4,
   "id": "93353357-2173-4c92-9437-b672368fabae",
   "metadata": {},
   "outputs": [
    {
     "name": "stdout",
     "output_type": "stream",
     "text": [
      "(0, 1, 2)\n",
      "(0, 2, 1)\n",
      "(1, 0, 2)\n",
      "(1, 2, 0)\n",
      "(2, 0, 1)\n",
      "(2, 1, 0)\n",
      "Minimal cost= 100000000.0\n",
      "Minimal conf= (0, 1, 2)\n"
     ]
    }
   ],
   "source": [
    "a = array.array('i',(i for i in range(0,n)))\n",
    "\n",
    "L = list(itertools.permutations(a))\n",
    "mincost = 1e8 # something very large\n",
    "minconf = L[0]\n",
    "for i in range(0,len(L)):\n",
    "    cost = 0\n",
    "    print(L[i])\n",
    "\n",
    "    # ====================================\n",
    "    # Compute cost for current permutation\n",
    "    # compare it to the minimal cost and change the minimum if necessary\n",
    "\n",
    "    # ====================================\n",
    "\n",
    "print(\"Minimal cost=\",mincost)\n",
    "print(\"Minimal conf=\",minconf)"
   ]
  },
  {
   "cell_type": "markdown",
   "id": "52247aca-b954-408e-bd11-37ecf83d7f85",
   "metadata": {},
   "source": [
    "**The Hungarian Algorithm**\n",
    "\n",
    "The Hungarian Algorithm solves assignment problems where $n$\n",
    "  items must be assigned to  $n$\n",
    "  elements.\n",
    "\n",
    "This notebook will present a basic implementation of the Hungarian Algorithm and solve randomised problem instances.\n",
    "\n",
    "We begin by importing numpy and generating an initial random problem instance of size  $n\\times n$, `max_int` defines the maximum values created by RNG (Random Number Generator)."
   ]
  },
  {
   "cell_type": "code",
   "execution_count": 5,
   "id": "8e435519-ea26-464e-b93e-34e5e1e4b04e",
   "metadata": {},
   "outputs": [
    {
     "name": "stdout",
     "output_type": "stream",
     "text": [
      "[[28 79 58]\n",
      " [52 41 98]\n",
      " [68 47  0]]\n"
     ]
    }
   ],
   "source": [
    "import numpy as np\n",
    "import copy\n",
    "\n",
    "#max_int = 100\n",
    "#n = 3\n",
    "#cost_matrix = np.random.randint(max_int, size=(n,n))\n",
    "\n",
    "print(cost_matrix)"
   ]
  },
  {
   "cell_type": "markdown",
   "id": "285027f5-e535-4c7a-a7b6-a2068930bda4",
   "metadata": {},
   "source": [
    "**Part 1 - scipy**\n",
    "\n",
    "We can use the function `linear_sum_assignment` which is contained in `scipy` to solve the assignment problem using the Hungarian Algorithm."
   ]
  },
  {
   "cell_type": "code",
   "execution_count": 51,
   "id": "e9a91a74-da4d-4e93-b4a8-fdbd95da3e2b",
   "metadata": {},
   "outputs": [
    {
     "name": "stdout",
     "output_type": "stream",
     "text": [
      "152\n"
     ]
    }
   ],
   "source": [
    "# import scipy's linear_sum_assignment\n",
    "from scipy.optimize import linear_sum_assignment\n",
    "\n",
    "# execute the assignment\n",
    "scp_assignment = linear_sum_assignment(cost_matrix)\n",
    "\n",
    "# find the total cost\n",
    "scp_total = 0\n",
    "for i in range(len(scp_assignment[0])):\n",
    "    scp_total += cost_matrix[scp_assignment[0][i], scp_assignment[1][i]]\n",
    "print(scp_total)"
   ]
  },
  {
   "cell_type": "markdown",
   "id": "ad1cba3d-32bf-44d2-8a36-4e82ff9a5e9a",
   "metadata": {},
   "source": [
    "**Part 2 - Scipy implementation and Figure** \n",
    "\n",
    "In this section we present a cleaner version of the previous code. We still use `scipy`, but we also produce clearer outputs and a figure to accompany the solution. The structure is separated into 4 functions: \n",
    "\n",
    "1. `run_assignment` - this is the main function, it runs `linear_sum_assignment` and calls supplementary functions for readability.\n",
    "2. `clean_assignment` - scipy returns two arrays as a solution, containing each assignment pair\n",
    "3. `calc_costs` - computes the total assignment costs.\n",
    "4. `draw_network` - draws a bipartite graph with the final assignment underlined in red.\n"
   ]
  },
  {
   "cell_type": "code",
   "execution_count": 52,
   "id": "426f9c8a-723f-4207-89ca-2baf0fd44934",
   "metadata": {},
   "outputs": [],
   "source": [
    "def draw_network(cost_matrix, assignment):\n",
    "    import networkx as nx\n",
    "    \n",
    "    x_diff = 10\n",
    "    \n",
    "    y_min = 0\n",
    "    y_max = 5\n",
    "    \n",
    "    G = nx.Graph()\n",
    "    \n",
    "    for i in range(len(assignment)):\n",
    "        G.add_node(f\"r_{i}\", pos=(y_min, i*x_diff))\n",
    "        G.add_node(f\"c_{i}\", pos=(y_max, i*x_diff))\n",
    "    \n",
    "    pos=nx.get_node_attributes(G,'pos')\n",
    "    \n",
    "    for i in range(len(assignment)):\n",
    "        for j in range(len(assignment)):\n",
    "            val = [i, j]\n",
    "            if val in assignment:\n",
    "                c = 'r'\n",
    "                w = 4\n",
    "            else:\n",
    "                c = 'k'\n",
    "                w = 2\n",
    "            G.add_edge(f\"r_{i}\", f\"c_{j}\", color=c, weight=w)\n",
    "            \n",
    "    edges = G.edges()\n",
    "    colors = [G[u][v]['color'] for u,v in edges]\n",
    "    weights = [G[u][v]['weight'] for u,v in edges]\n",
    "    nx.draw(G,pos,with_labels=True, node_size=600, font_color='w', edge_color=colors, width=weights)\n",
    "    \n",
    "\n",
    "def calc_costs(cost_matrix, assignment):\n",
    "    total = 0\n",
    "    for a in assignment:\n",
    "        total += cost_matrix[a[0], a[1]]\n",
    "    return total\n",
    "\n",
    "def clean_assignment(row, columns):\n",
    "    assignments = []\n",
    "    # create pairs\n",
    "    text = \"The final assignment is \"\n",
    "    for i in range(len(row)):\n",
    "        assignments.append([row[i], columns[i]])\n",
    "        if i > 0:\n",
    "            text += \", \"\n",
    "        text += f\"({row[i]}, {columns[i]})\"\n",
    "    print(text)\n",
    "    return assignments\n",
    "\n",
    "    \n",
    "def run_assignment(cost_matrix):\n",
    "    row,columns = linear_sum_assignment(cost_matrix)\n",
    "    assignments = clean_assignment(row, columns)\n",
    "    total_cost = calc_costs(cost_matrix, assignments)\n",
    "    print(f\"The total cost of the assignment is {total_cost}.\")\n",
    "    draw_network(cost_matrix, assignments)"
   ]
  },
  {
   "cell_type": "code",
   "execution_count": 19,
   "id": "87b7189e-a51c-46bb-a2b9-aa99e9d58953",
   "metadata": {},
   "outputs": [
    {
     "name": "stdout",
     "output_type": "stream",
     "text": [
      "The final assignment is (0, 1), (1, 2), (2, 0)\n",
      "The total cost of the assignment is 101.\n"
     ]
    },
    {
     "data": {
      "image/png": "[encoded data removed]",
      "text/plain": [
       "<Figure size 640x480 with 1 Axes>"
      ]
     },
     "metadata": {},
     "output_type": "display_data"
    }
   ],
   "source": [
    "run_assignment(cost_matrix)\n"
   ]
  },
  {
   "cell_type": "markdown",
   "id": "1beece49-fc53-4722-b97a-908beaaf0860",
   "metadata": {},
   "source": [
    "**Part 3 - Full implementation of the Hungarian Algorithm (more challenging...)**\n",
    "\n",
    "This section presents a step-by-step implementation of the algorithm.\n",
    "\n",
    "The algorithm has two stages, first we find the minimum value at each row, and then subtract that value to every element of the row. Then we repeat the process using the columns instead. We define this process in the function `hungarian_step` that has the cost_matrix as input.\n",
    "\n",
    "**Goal:** read and understand the implementation."
   ]
  },
  {
   "cell_type": "code",
   "execution_count": 20,
   "id": "9b0e15e6-bc7e-4a5a-a299-6e31f4afe041",
   "metadata": {},
   "outputs": [],
   "source": [
    "def hungarian_step(mat): \n",
    "    #The for-loop iterates through every column in the matrix so we subtract this value to every element of the row\n",
    "    for row_num in range(mat.shape[0]): \n",
    "        mat[row_num] = mat[row_num] - np.min(mat[row_num])\n",
    "    \n",
    "    #We repeat the process for the columns\n",
    "    for col_num in range(mat.shape[1]): \n",
    "        mat[:,col_num] = mat[:,col_num] - np.min(mat[:,col_num])\n",
    "    \n",
    "    return mat"
   ]
  },
  {
   "cell_type": "markdown",
   "id": "73357206-f297-4e13-bd11-a8d9512357ac",
   "metadata": {},
   "source": [
    "The next step, while easy to carry out visually, becomes more difficult to code. We need to find the row containing the least number of zeros first.\n",
    "\n",
    "The first step to do this is to define a function that finds the minimum number of rows to mark that contain a zero value, let's call this min_zeros. Let's assume that the matrix being input is boolean with True where 0 existed and False where non-zero.\n",
    "\n",
    "Now, mark the column and row as False and repeat, saving the information where the last zero value was retrieved.\n",
    "\n",
    "By repeating this process, we collect all zeros in the matrix."
   ]
  },
  {
   "cell_type": "code",
   "execution_count": 21,
   "id": "be1b3fa1-e355-47c1-bc84-a77854bc63ee",
   "metadata": {},
   "outputs": [],
   "source": [
    "def min_zeros(zero_mat, mark_zero):\n",
    "    # min_row = [number of zeros, row index number]\n",
    "    min_row = [99999, -1]\n",
    "\n",
    "    for row_num in range(zero_mat.shape[0]): \n",
    "        if np.sum(zero_mat[row_num] == True) > 0 and min_row[0] > np.sum(zero_mat[row_num] == True):\n",
    "            min_row = [np.sum(zero_mat[row_num] == True), row_num]\n",
    "\n",
    "    # Marked the specific row and column as False\n",
    "    zero_index = np.where(zero_mat[min_row[1]] == True)[0][0]\n",
    "    mark_zero.append((min_row[1], zero_index))\n",
    "    zero_mat[min_row[1], :] = False\n",
    "    zero_mat[:, zero_index] = False"
   ]
  },
  {
   "cell_type": "markdown",
   "id": "7904fff4-976b-4c64-9264-15fc71e4906e",
   "metadata": {},
   "source": [
    "Now that we extracted the zeros in the matrix, we can mark the rows and columns to determine whether the hungarian algorithm is complete.\n",
    "\n"
   ]
  },
  {
   "cell_type": "code",
   "execution_count": 22,
   "id": "ddb899e4-3422-4266-ab63-e12b4efe44b4",
   "metadata": {},
   "outputs": [],
   "source": [
    "def mark_matrix(mat):\n",
    "    #Transform the matrix to boolean matrix(0 = True, others = False)\n",
    "    cur_mat = mat\n",
    "    zero_bool_mat = (cur_mat == 0)\n",
    "    zero_bool_mat_copy = zero_bool_mat.copy()\n",
    "\n",
    "    #Recording possible answer positions by marked_zero\n",
    "    marked_zero = []\n",
    "    while (True in zero_bool_mat_copy):\n",
    "        min_zeros(zero_bool_mat_copy, marked_zero)\n",
    "\n",
    "    #Recording the row and column indexes seperately.\n",
    "    marked_zero_row = []\n",
    "    marked_zero_col = []\n",
    "    for i in range(len(marked_zero)):\n",
    "        marked_zero_row.append(marked_zero[i][0])\n",
    "        marked_zero_col.append(marked_zero[i][1])\n",
    "    \n",
    "    # mark rows not containing zeros\n",
    "    non_marked_row = list(set(range(cur_mat.shape[0])) - set(marked_zero_row))\n",
    "    \n",
    "    # mark columns with zeros\n",
    "    marked_cols = []\n",
    "    check_switch = True\n",
    "    while check_switch:\n",
    "        check_switch = False\n",
    "        for i in range(len(non_marked_row)):\n",
    "            row_array = zero_bool_mat[non_marked_row[i], :]\n",
    "            for j in range(row_array.shape[0]):\n",
    "                if row_array[j] == True and j not in marked_cols:\n",
    "\n",
    "                    marked_cols.append(j)\n",
    "                    check_switch = True\n",
    "\n",
    "        for row_num, col_num in marked_zero:\n",
    "            if row_num not in non_marked_row and col_num in marked_cols:\n",
    "                \n",
    "                non_marked_row.append(row_num)\n",
    "                check_switch = True\n",
    "    \n",
    "    # mark rows with zeros\n",
    "    marked_rows = list(set(range(mat.shape[0])) - set(non_marked_row))\n",
    "    \n",
    "    return(marked_zero, marked_rows, marked_cols)"
   ]
  },
  {
   "cell_type": "markdown",
   "id": "56c60eb9-7096-44d7-a6de-b518bd0cfa78",
   "metadata": {},
   "source": [
    "In the case where marked rows and columns do not add up to $n$, we need to adjust the matrix to continue the search.\n"
   ]
  },
  {
   "cell_type": "code",
   "execution_count": 23,
   "id": "2aa5d12a-f9d0-489f-8642-768cc87a21d6",
   "metadata": {},
   "outputs": [],
   "source": [
    "def adjust_matrix(mat, cover_rows, cover_cols):\n",
    "    cur_mat = mat\n",
    "    non_zero_element = []\n",
    "    \n",
    "    # find the minimum value of an element not in a marked column/row \n",
    "    for row in range(len(cur_mat)):\n",
    "        if row not in cover_rows:\n",
    "            for i in range(len(cur_mat[row])):\n",
    "                if i not in cover_cols:\n",
    "                    non_zero_element.append(cur_mat[row][i])\n",
    "    \n",
    "    min_num = min(non_zero_element)\n",
    "\n",
    "    # substract to all values not in a marked row/column\n",
    "    for row in range(len(cur_mat)):\n",
    "        if row not in cover_rows:\n",
    "            for i in range(len(cur_mat[row])):\n",
    "                if i not in cover_cols:\n",
    "                    cur_mat[row, i] = cur_mat[row, i] - min_num\n",
    "    # add to all values in marked rows/column\n",
    "    for row in range(len(cover_rows)):  \n",
    "        for col in range(len(cover_cols)):\n",
    "            cur_mat[cover_rows[row], cover_cols[col]] = cur_mat[cover_rows[row], cover_cols[col]] + min_num\n",
    "\n",
    "    return cur_mat"
   ]
  },
  {
   "cell_type": "markdown",
   "id": "f3f4b383-3bdc-46bf-9b82-8537bf007ad8",
   "metadata": {},
   "source": [
    "We can now put it all together into a single function:"
   ]
  },
  {
   "cell_type": "code",
   "execution_count": 24,
   "id": "28bca587-2a3e-4361-80d1-1a1eba491959",
   "metadata": {},
   "outputs": [],
   "source": [
    "def hungarian_algorithm(cost_matrix):\n",
    "    n = cost_matrix.shape[0]\n",
    "    cur_mat = copy.deepcopy(cost_matrix)\n",
    "    \n",
    "    cur_mat = hungarian_step(cur_mat)\n",
    "    \n",
    "    count_zero_lines = 0\n",
    "        \n",
    "    while count_zero_lines < n:\n",
    "        ans_pos, marked_rows, marked_cols = mark_matrix(cur_mat)\n",
    "        count_zero_lines = len(marked_rows) + len(marked_cols)\n",
    "\n",
    "        if count_zero_lines < n:\n",
    "            cur_mat = adjust_matrix(cur_mat, marked_rows, marked_cols)\n",
    "    \n",
    "        return ans_pos"
   ]
  },
  {
   "cell_type": "code",
   "execution_count": 25,
   "id": "823370b8-af46-441b-a24b-13e312b61a16",
   "metadata": {},
   "outputs": [
    {
     "name": "stdout",
     "output_type": "stream",
     "text": [
      "The final assignment is: [(0, 1), (1, 2), (2, 0)]\n",
      "[[57 17 32]\n",
      " [91 83 70]\n",
      " [14 57 87]]\n"
     ]
    }
   ],
   "source": [
    "assignment = hungarian_algorithm(cost_matrix)\n",
    "print(f\"The final assignment is: {assignment}\")\n",
    "print(cost_matrix)"
   ]
  },
  {
   "cell_type": "code",
   "execution_count": 26,
   "id": "c183e072-73d4-4600-96ed-0ebb5d435e60",
   "metadata": {},
   "outputs": [
    {
     "name": "stdout",
     "output_type": "stream",
     "text": [
      "The total cost of the assignment is 101\n"
     ]
    }
   ],
   "source": [
    "total = 0\n",
    "for i in range(len(assignment)):\n",
    "    total += cost_matrix[assignment[i][0], assignment[i][1]]\n",
    "print(f\"The total cost of the assignment is {total}\")"
   ]
  },
  {
   "cell_type": "code",
   "execution_count": null,
   "id": "516cea30-5a6a-46ae-94b8-deac620c0ff6",
   "metadata": {},
   "outputs": [],
   "source": []
  }
 ],
 "metadata": {
  "kernelspec": {
   "display_name": "Python 3 (ipykernel)",
   "language": "python",
   "name": "python3"
  },
  "language_info": {
   "codemirror_mode": {
    "name": "ipython",
    "version": 3
   },
   "file_extension": ".py",
   "mimetype": "text/x-python",
   "name": "python",
   "nbconvert_exporter": "python",
   "pygments_lexer": "ipython3",
   "version": "3.12.1"
  }
 },
 "nbformat": 4,
 "nbformat_minor": 5
}
